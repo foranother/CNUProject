{
 "cells": [
  {
   "cell_type": "markdown",
   "id": "b3946ef8",
   "metadata": {
    "papermill": {
     "duration": 0.049048,
     "end_time": "2022-05-10T05:12:30.735609",
     "exception": false,
     "start_time": "2022-05-10T05:12:30.686561",
     "status": "completed"
    },
    "tags": []
   },
   "source": [
    "### 캐글 프라이빗 경진대회 베이스 코드\n",
    "- 베이스 코드는 참가자 분들을 위해 데이터 불러오기, 모델 학습, 결과물 제출까지의 방법을 제공합니다.\n",
    "- 베이스 코드를 참고하여, 본인만의 전처리와 모델학습 그리고 결과제출을 해주시길 바랍니다."
   ]
  },
  {
   "cell_type": "code",
   "execution_count": 1,
   "id": "f5f28815",
   "metadata": {
    "execution": {
     "iopub.execute_input": "2022-05-10T05:12:30.832800Z",
     "iopub.status.busy": "2022-05-10T05:12:30.832332Z",
     "iopub.status.idle": "2022-05-10T05:12:30.846657Z",
     "shell.execute_reply": "2022-05-10T05:12:30.845659Z"
    },
    "papermill": {
     "duration": 0.066298,
     "end_time": "2022-05-10T05:12:30.849116",
     "exception": false,
     "start_time": "2022-05-10T05:12:30.782818",
     "status": "completed"
    },
    "tags": []
   },
   "outputs": [],
   "source": [
    "import numpy as np\n",
    "import pandas as pd"
   ]
  },
  {
   "cell_type": "code",
   "execution_count": 2,
   "id": "bdfb0835",
   "metadata": {
    "execution": {
     "iopub.execute_input": "2022-05-10T05:12:30.949179Z",
     "iopub.status.busy": "2022-05-10T05:12:30.948367Z",
     "iopub.status.idle": "2022-05-10T05:12:30.975453Z",
     "shell.execute_reply": "2022-05-10T05:12:30.974615Z"
    },
    "papermill": {
     "duration": 0.079973,
     "end_time": "2022-05-10T05:12:30.977734",
     "exception": false,
     "start_time": "2022-05-10T05:12:30.897761",
     "status": "completed"
    },
    "tags": []
   },
   "outputs": [],
   "source": [
    "#본인의 파일 경로로 지정\n",
    "train_data = pd.read_csv('../input/cnu-mlclass/train_kaggle.csv')\n",
    "test_data = pd.read_csv('../input/cnu-mlclass/test_kaggle.csv')"
   ]
  },
  {
   "cell_type": "code",
   "execution_count": 3,
   "id": "eadc91eb",
   "metadata": {
    "execution": {
     "iopub.execute_input": "2022-05-10T05:12:31.076598Z",
     "iopub.status.busy": "2022-05-10T05:12:31.076049Z",
     "iopub.status.idle": "2022-05-10T05:12:31.105933Z",
     "shell.execute_reply": "2022-05-10T05:12:31.105243Z"
    },
    "papermill": {
     "duration": 0.082009,
     "end_time": "2022-05-10T05:12:31.108079",
     "exception": false,
     "start_time": "2022-05-10T05:12:31.026070",
     "status": "completed"
    },
    "tags": []
   },
   "outputs": [
    {
     "data": {
      "text/html": [
       "<div>\n",
       "<style scoped>\n",
       "    .dataframe tbody tr th:only-of-type {\n",
       "        vertical-align: middle;\n",
       "    }\n",
       "\n",
       "    .dataframe tbody tr th {\n",
       "        vertical-align: top;\n",
       "    }\n",
       "\n",
       "    .dataframe thead th {\n",
       "        text-align: right;\n",
       "    }\n",
       "</style>\n",
       "<table border=\"1\" class=\"dataframe\">\n",
       "  <thead>\n",
       "    <tr style=\"text-align: right;\">\n",
       "      <th></th>\n",
       "      <th>index</th>\n",
       "      <th>method</th>\n",
       "      <th>number</th>\n",
       "      <th>orbital_period</th>\n",
       "      <th>mass</th>\n",
       "      <th>distance</th>\n",
       "      <th>year</th>\n",
       "    </tr>\n",
       "  </thead>\n",
       "  <tbody>\n",
       "    <tr>\n",
       "      <th>0</th>\n",
       "      <td>0</td>\n",
       "      <td>Radial Velocity</td>\n",
       "      <td>4</td>\n",
       "      <td>241.258000</td>\n",
       "      <td>1.98100</td>\n",
       "      <td>13.47</td>\n",
       "      <td>1999</td>\n",
       "    </tr>\n",
       "    <tr>\n",
       "      <th>1</th>\n",
       "      <td>1</td>\n",
       "      <td>Transit</td>\n",
       "      <td>1</td>\n",
       "      <td>1.337118</td>\n",
       "      <td>NaN</td>\n",
       "      <td>NaN</td>\n",
       "      <td>2011</td>\n",
       "    </tr>\n",
       "    <tr>\n",
       "      <th>2</th>\n",
       "      <td>2</td>\n",
       "      <td>Transit</td>\n",
       "      <td>1</td>\n",
       "      <td>1.573292</td>\n",
       "      <td>NaN</td>\n",
       "      <td>350.00</td>\n",
       "      <td>2012</td>\n",
       "    </tr>\n",
       "    <tr>\n",
       "      <th>3</th>\n",
       "      <td>3</td>\n",
       "      <td>Radial Velocity</td>\n",
       "      <td>2</td>\n",
       "      <td>3000.000000</td>\n",
       "      <td>NaN</td>\n",
       "      <td>NaN</td>\n",
       "      <td>2014</td>\n",
       "    </tr>\n",
       "    <tr>\n",
       "      <th>4</th>\n",
       "      <td>4</td>\n",
       "      <td>Radial Velocity</td>\n",
       "      <td>1</td>\n",
       "      <td>9.494000</td>\n",
       "      <td>0.02600</td>\n",
       "      <td>21.30</td>\n",
       "      <td>2010</td>\n",
       "    </tr>\n",
       "    <tr>\n",
       "      <th>...</th>\n",
       "      <td>...</td>\n",
       "      <td>...</td>\n",
       "      <td>...</td>\n",
       "      <td>...</td>\n",
       "      <td>...</td>\n",
       "      <td>...</td>\n",
       "      <td>...</td>\n",
       "    </tr>\n",
       "    <tr>\n",
       "      <th>746</th>\n",
       "      <td>746</td>\n",
       "      <td>Radial Velocity</td>\n",
       "      <td>1</td>\n",
       "      <td>772.000000</td>\n",
       "      <td>2.70000</td>\n",
       "      <td>127.88</td>\n",
       "      <td>2011</td>\n",
       "    </tr>\n",
       "    <tr>\n",
       "      <th>747</th>\n",
       "      <td>747</td>\n",
       "      <td>Radial Velocity</td>\n",
       "      <td>1</td>\n",
       "      <td>829.000000</td>\n",
       "      <td>0.80000</td>\n",
       "      <td>32.70</td>\n",
       "      <td>2001</td>\n",
       "    </tr>\n",
       "    <tr>\n",
       "      <th>748</th>\n",
       "      <td>748</td>\n",
       "      <td>Radial Velocity</td>\n",
       "      <td>1</td>\n",
       "      <td>3.092500</td>\n",
       "      <td>0.95000</td>\n",
       "      <td>27.05</td>\n",
       "      <td>2000</td>\n",
       "    </tr>\n",
       "    <tr>\n",
       "      <th>749</th>\n",
       "      <td>749</td>\n",
       "      <td>Transit</td>\n",
       "      <td>2</td>\n",
       "      <td>27.402000</td>\n",
       "      <td>NaN</td>\n",
       "      <td>NaN</td>\n",
       "      <td>2012</td>\n",
       "    </tr>\n",
       "    <tr>\n",
       "      <th>750</th>\n",
       "      <td>750</td>\n",
       "      <td>Radial Velocity</td>\n",
       "      <td>2</td>\n",
       "      <td>74.720000</td>\n",
       "      <td>0.05318</td>\n",
       "      <td>8.82</td>\n",
       "      <td>2011</td>\n",
       "    </tr>\n",
       "  </tbody>\n",
       "</table>\n",
       "<p>751 rows × 7 columns</p>\n",
       "</div>"
      ],
      "text/plain": [
       "     index           method  number  orbital_period     mass  distance  year\n",
       "0        0  Radial Velocity       4      241.258000  1.98100     13.47  1999\n",
       "1        1          Transit       1        1.337118      NaN       NaN  2011\n",
       "2        2          Transit       1        1.573292      NaN    350.00  2012\n",
       "3        3  Radial Velocity       2     3000.000000      NaN       NaN  2014\n",
       "4        4  Radial Velocity       1        9.494000  0.02600     21.30  2010\n",
       "..     ...              ...     ...             ...      ...       ...   ...\n",
       "746    746  Radial Velocity       1      772.000000  2.70000    127.88  2011\n",
       "747    747  Radial Velocity       1      829.000000  0.80000     32.70  2001\n",
       "748    748  Radial Velocity       1        3.092500  0.95000     27.05  2000\n",
       "749    749          Transit       2       27.402000      NaN       NaN  2012\n",
       "750    750  Radial Velocity       2       74.720000  0.05318      8.82  2011\n",
       "\n",
       "[751 rows x 7 columns]"
      ]
     },
     "execution_count": 3,
     "metadata": {},
     "output_type": "execute_result"
    }
   ],
   "source": [
    "train_data"
   ]
  },
  {
   "cell_type": "markdown",
   "id": "70b6463f",
   "metadata": {
    "papermill": {
     "duration": 0.046909,
     "end_time": "2022-05-10T05:12:31.202536",
     "exception": false,
     "start_time": "2022-05-10T05:12:31.155627",
     "status": "completed"
    },
    "tags": []
   },
   "source": [
    "- 테스트 데이터에는 'method'가 없으며, 즉 'method' 가 class 입니다."
   ]
  },
  {
   "cell_type": "code",
   "execution_count": 4,
   "id": "da760a98",
   "metadata": {
    "execution": {
     "iopub.execute_input": "2022-05-10T05:12:31.300740Z",
     "iopub.status.busy": "2022-05-10T05:12:31.300163Z",
     "iopub.status.idle": "2022-05-10T05:12:31.316038Z",
     "shell.execute_reply": "2022-05-10T05:12:31.315197Z"
    },
    "papermill": {
     "duration": 0.067015,
     "end_time": "2022-05-10T05:12:31.318735",
     "exception": false,
     "start_time": "2022-05-10T05:12:31.251720",
     "status": "completed"
    },
    "tags": []
   },
   "outputs": [
    {
     "data": {
      "text/html": [
       "<div>\n",
       "<style scoped>\n",
       "    .dataframe tbody tr th:only-of-type {\n",
       "        vertical-align: middle;\n",
       "    }\n",
       "\n",
       "    .dataframe tbody tr th {\n",
       "        vertical-align: top;\n",
       "    }\n",
       "\n",
       "    .dataframe thead th {\n",
       "        text-align: right;\n",
       "    }\n",
       "</style>\n",
       "<table border=\"1\" class=\"dataframe\">\n",
       "  <thead>\n",
       "    <tr style=\"text-align: right;\">\n",
       "      <th></th>\n",
       "      <th>index</th>\n",
       "      <th>number</th>\n",
       "      <th>orbital_period</th>\n",
       "      <th>mass</th>\n",
       "      <th>distance</th>\n",
       "      <th>year</th>\n",
       "    </tr>\n",
       "  </thead>\n",
       "  <tbody>\n",
       "    <tr>\n",
       "      <th>0</th>\n",
       "      <td>0</td>\n",
       "      <td>2</td>\n",
       "      <td>74.720000</td>\n",
       "      <td>0.05318</td>\n",
       "      <td>8.82</td>\n",
       "      <td>2011</td>\n",
       "    </tr>\n",
       "    <tr>\n",
       "      <th>1</th>\n",
       "      <td>1</td>\n",
       "      <td>1</td>\n",
       "      <td>2.994330</td>\n",
       "      <td>NaN</td>\n",
       "      <td>560.00</td>\n",
       "      <td>2010</td>\n",
       "    </tr>\n",
       "    <tr>\n",
       "      <th>2</th>\n",
       "      <td>2</td>\n",
       "      <td>6</td>\n",
       "      <td>10.303900</td>\n",
       "      <td>NaN</td>\n",
       "      <td>613.00</td>\n",
       "      <td>2010</td>\n",
       "    </tr>\n",
       "    <tr>\n",
       "      <th>3</th>\n",
       "      <td>3</td>\n",
       "      <td>1</td>\n",
       "      <td>NaN</td>\n",
       "      <td>NaN</td>\n",
       "      <td>91.83</td>\n",
       "      <td>2013</td>\n",
       "    </tr>\n",
       "    <tr>\n",
       "      <th>4</th>\n",
       "      <td>4</td>\n",
       "      <td>1</td>\n",
       "      <td>2.465020</td>\n",
       "      <td>NaN</td>\n",
       "      <td>NaN</td>\n",
       "      <td>2014</td>\n",
       "    </tr>\n",
       "    <tr>\n",
       "      <th>...</th>\n",
       "      <td>...</td>\n",
       "      <td>...</td>\n",
       "      <td>...</td>\n",
       "      <td>...</td>\n",
       "      <td>...</td>\n",
       "      <td>...</td>\n",
       "    </tr>\n",
       "    <tr>\n",
       "      <th>280</th>\n",
       "      <td>280</td>\n",
       "      <td>6</td>\n",
       "      <td>16.356700</td>\n",
       "      <td>0.03800</td>\n",
       "      <td>39.39</td>\n",
       "      <td>2010</td>\n",
       "    </tr>\n",
       "    <tr>\n",
       "      <th>281</th>\n",
       "      <td>281</td>\n",
       "      <td>5</td>\n",
       "      <td>44.380000</td>\n",
       "      <td>0.16500</td>\n",
       "      <td>12.53</td>\n",
       "      <td>2004</td>\n",
       "    </tr>\n",
       "    <tr>\n",
       "      <th>282</th>\n",
       "      <td>282</td>\n",
       "      <td>1</td>\n",
       "      <td>615.000000</td>\n",
       "      <td>0.29000</td>\n",
       "      <td>35.88</td>\n",
       "      <td>2011</td>\n",
       "    </tr>\n",
       "    <tr>\n",
       "      <th>283</th>\n",
       "      <td>283</td>\n",
       "      <td>1</td>\n",
       "      <td>2.484193</td>\n",
       "      <td>NaN</td>\n",
       "      <td>260.00</td>\n",
       "      <td>2013</td>\n",
       "    </tr>\n",
       "    <tr>\n",
       "      <th>284</th>\n",
       "      <td>284</td>\n",
       "      <td>3</td>\n",
       "      <td>4.215000</td>\n",
       "      <td>0.01600</td>\n",
       "      <td>8.52</td>\n",
       "      <td>2009</td>\n",
       "    </tr>\n",
       "  </tbody>\n",
       "</table>\n",
       "<p>285 rows × 6 columns</p>\n",
       "</div>"
      ],
      "text/plain": [
       "     index  number  orbital_period     mass  distance  year\n",
       "0        0       2       74.720000  0.05318      8.82  2011\n",
       "1        1       1        2.994330      NaN    560.00  2010\n",
       "2        2       6       10.303900      NaN    613.00  2010\n",
       "3        3       1             NaN      NaN     91.83  2013\n",
       "4        4       1        2.465020      NaN       NaN  2014\n",
       "..     ...     ...             ...      ...       ...   ...\n",
       "280    280       6       16.356700  0.03800     39.39  2010\n",
       "281    281       5       44.380000  0.16500     12.53  2004\n",
       "282    282       1      615.000000  0.29000     35.88  2011\n",
       "283    283       1        2.484193      NaN    260.00  2013\n",
       "284    284       3        4.215000  0.01600      8.52  2009\n",
       "\n",
       "[285 rows x 6 columns]"
      ]
     },
     "execution_count": 4,
     "metadata": {},
     "output_type": "execute_result"
    }
   ],
   "source": [
    "test_data"
   ]
  },
  {
   "cell_type": "code",
   "execution_count": 5,
   "id": "f69a9c48",
   "metadata": {
    "execution": {
     "iopub.execute_input": "2022-05-10T05:12:31.417929Z",
     "iopub.status.busy": "2022-05-10T05:12:31.417379Z",
     "iopub.status.idle": "2022-05-10T05:12:31.440977Z",
     "shell.execute_reply": "2022-05-10T05:12:31.440193Z"
    },
    "papermill": {
     "duration": 0.074932,
     "end_time": "2022-05-10T05:12:31.443186",
     "exception": false,
     "start_time": "2022-05-10T05:12:31.368254",
     "status": "completed"
    },
    "tags": []
   },
   "outputs": [
    {
     "name": "stdout",
     "output_type": "stream",
     "text": [
      "<class 'pandas.core.frame.DataFrame'>\n",
      "RangeIndex: 751 entries, 0 to 750\n",
      "Data columns (total 7 columns):\n",
      " #   Column          Non-Null Count  Dtype  \n",
      "---  ------          --------------  -----  \n",
      " 0   index           751 non-null    int64  \n",
      " 1   method          751 non-null    object \n",
      " 2   number          751 non-null    int64  \n",
      " 3   orbital_period  725 non-null    float64\n",
      " 4   mass            376 non-null    float64\n",
      " 5   distance        588 non-null    float64\n",
      " 6   year            751 non-null    int64  \n",
      "dtypes: float64(3), int64(3), object(1)\n",
      "memory usage: 41.2+ KB\n"
     ]
    }
   ],
   "source": [
    "train_data.info()"
   ]
  },
  {
   "cell_type": "code",
   "execution_count": 6,
   "id": "277eeb82",
   "metadata": {
    "execution": {
     "iopub.execute_input": "2022-05-10T05:12:31.544017Z",
     "iopub.status.busy": "2022-05-10T05:12:31.543717Z",
     "iopub.status.idle": "2022-05-10T05:12:31.555934Z",
     "shell.execute_reply": "2022-05-10T05:12:31.555359Z"
    },
    "papermill": {
     "duration": 0.066268,
     "end_time": "2022-05-10T05:12:31.558669",
     "exception": false,
     "start_time": "2022-05-10T05:12:31.492401",
     "status": "completed"
    },
    "tags": []
   },
   "outputs": [
    {
     "name": "stdout",
     "output_type": "stream",
     "text": [
      "<class 'pandas.core.frame.DataFrame'>\n",
      "RangeIndex: 285 entries, 0 to 284\n",
      "Data columns (total 6 columns):\n",
      " #   Column          Non-Null Count  Dtype  \n",
      "---  ------          --------------  -----  \n",
      " 0   index           285 non-null    int64  \n",
      " 1   number          285 non-null    int64  \n",
      " 2   orbital_period  268 non-null    float64\n",
      " 3   mass            138 non-null    float64\n",
      " 4   distance        221 non-null    float64\n",
      " 5   year            285 non-null    int64  \n",
      "dtypes: float64(3), int64(3)\n",
      "memory usage: 13.5 KB\n"
     ]
    }
   ],
   "source": [
    "test_data.info()"
   ]
  },
  {
   "cell_type": "code",
   "execution_count": 7,
   "id": "561459b1",
   "metadata": {
    "execution": {
     "iopub.execute_input": "2022-05-10T05:12:31.658537Z",
     "iopub.status.busy": "2022-05-10T05:12:31.657700Z",
     "iopub.status.idle": "2022-05-10T05:12:31.662774Z",
     "shell.execute_reply": "2022-05-10T05:12:31.661969Z"
    },
    "papermill": {
     "duration": 0.05861,
     "end_time": "2022-05-10T05:12:31.666015",
     "exception": false,
     "start_time": "2022-05-10T05:12:31.607405",
     "status": "completed"
    },
    "tags": []
   },
   "outputs": [
    {
     "name": "stdout",
     "output_type": "stream",
     "text": [
      "Train 크기:(751, 7)\n",
      "Test 크기:(285, 6)\n"
     ]
    }
   ],
   "source": [
    "print(\"Train 크기:{}\".format(train_data.shape))\n",
    "print(\"Test 크기:{}\".format(test_data.shape))"
   ]
  },
  {
   "cell_type": "code",
   "execution_count": 8,
   "id": "0144888f",
   "metadata": {
    "execution": {
     "iopub.execute_input": "2022-05-10T05:12:31.767900Z",
     "iopub.status.busy": "2022-05-10T05:12:31.766942Z",
     "iopub.status.idle": "2022-05-10T05:12:31.777535Z",
     "shell.execute_reply": "2022-05-10T05:12:31.776529Z"
    },
    "papermill": {
     "duration": 0.06362,
     "end_time": "2022-05-10T05:12:31.779971",
     "exception": false,
     "start_time": "2022-05-10T05:12:31.716351",
     "status": "completed"
    },
    "tags": []
   },
   "outputs": [
    {
     "name": "stdout",
     "output_type": "stream",
     "text": [
      "train_data 결측치 확인:  index               0\n",
      "method              0\n",
      "number              0\n",
      "orbital_period     26\n",
      "mass              375\n",
      "distance          163\n",
      "year                0\n",
      "dtype: int64\n",
      "----------------------------------------------------\n",
      "test_data 결측치 확인:  index               0\n",
      "number              0\n",
      "orbital_period     17\n",
      "mass              147\n",
      "distance           64\n",
      "year                0\n",
      "dtype: int64\n"
     ]
    }
   ],
   "source": [
    "print(\"train_data 결측치 확인: \",train_data.isnull().sum())\n",
    "print(\"----------------------------------------------------\")\n",
    "print(\"test_data 결측치 확인: \",test_data.isnull().sum())"
   ]
  },
  {
   "cell_type": "code",
   "execution_count": 9,
   "id": "06cef393",
   "metadata": {
    "execution": {
     "iopub.execute_input": "2022-05-10T05:12:31.886680Z",
     "iopub.status.busy": "2022-05-10T05:12:31.886198Z",
     "iopub.status.idle": "2022-05-10T05:12:31.902878Z",
     "shell.execute_reply": "2022-05-10T05:12:31.901990Z"
    },
    "papermill": {
     "duration": 0.073599,
     "end_time": "2022-05-10T05:12:31.904821",
     "exception": false,
     "start_time": "2022-05-10T05:12:31.831222",
     "status": "completed"
    },
    "tags": []
   },
   "outputs": [
    {
     "data": {
      "text/html": [
       "<div>\n",
       "<style scoped>\n",
       "    .dataframe tbody tr th:only-of-type {\n",
       "        vertical-align: middle;\n",
       "    }\n",
       "\n",
       "    .dataframe tbody tr th {\n",
       "        vertical-align: top;\n",
       "    }\n",
       "\n",
       "    .dataframe thead th {\n",
       "        text-align: right;\n",
       "    }\n",
       "</style>\n",
       "<table border=\"1\" class=\"dataframe\">\n",
       "  <thead>\n",
       "    <tr style=\"text-align: right;\">\n",
       "      <th></th>\n",
       "      <th>index</th>\n",
       "      <th>number</th>\n",
       "      <th>orbital_period</th>\n",
       "      <th>mass</th>\n",
       "      <th>distance</th>\n",
       "      <th>year</th>\n",
       "    </tr>\n",
       "  </thead>\n",
       "  <tbody>\n",
       "    <tr>\n",
       "      <th>index</th>\n",
       "      <td>1.000000</td>\n",
       "      <td>-0.017091</td>\n",
       "      <td>-0.032350</td>\n",
       "      <td>0.003744</td>\n",
       "      <td>-0.030886</td>\n",
       "      <td>0.014596</td>\n",
       "    </tr>\n",
       "    <tr>\n",
       "      <th>number</th>\n",
       "      <td>-0.017091</td>\n",
       "      <td>1.000000</td>\n",
       "      <td>-0.009549</td>\n",
       "      <td>-0.231707</td>\n",
       "      <td>-0.032476</td>\n",
       "      <td>0.139381</td>\n",
       "    </tr>\n",
       "    <tr>\n",
       "      <th>orbital_period</th>\n",
       "      <td>-0.032350</td>\n",
       "      <td>-0.009549</td>\n",
       "      <td>1.000000</td>\n",
       "      <td>0.157797</td>\n",
       "      <td>-0.034874</td>\n",
       "      <td>-0.033019</td>\n",
       "    </tr>\n",
       "    <tr>\n",
       "      <th>mass</th>\n",
       "      <td>0.003744</td>\n",
       "      <td>-0.231707</td>\n",
       "      <td>0.157797</td>\n",
       "      <td>1.000000</td>\n",
       "      <td>0.265556</td>\n",
       "      <td>-0.102629</td>\n",
       "    </tr>\n",
       "    <tr>\n",
       "      <th>distance</th>\n",
       "      <td>-0.030886</td>\n",
       "      <td>-0.032476</td>\n",
       "      <td>-0.034874</td>\n",
       "      <td>0.265556</td>\n",
       "      <td>1.000000</td>\n",
       "      <td>0.171938</td>\n",
       "    </tr>\n",
       "    <tr>\n",
       "      <th>year</th>\n",
       "      <td>0.014596</td>\n",
       "      <td>0.139381</td>\n",
       "      <td>-0.033019</td>\n",
       "      <td>-0.102629</td>\n",
       "      <td>0.171938</td>\n",
       "      <td>1.000000</td>\n",
       "    </tr>\n",
       "  </tbody>\n",
       "</table>\n",
       "</div>"
      ],
      "text/plain": [
       "                   index    number  orbital_period      mass  distance  \\\n",
       "index           1.000000 -0.017091       -0.032350  0.003744 -0.030886   \n",
       "number         -0.017091  1.000000       -0.009549 -0.231707 -0.032476   \n",
       "orbital_period -0.032350 -0.009549        1.000000  0.157797 -0.034874   \n",
       "mass            0.003744 -0.231707        0.157797  1.000000  0.265556   \n",
       "distance       -0.030886 -0.032476       -0.034874  0.265556  1.000000   \n",
       "year            0.014596  0.139381       -0.033019 -0.102629  0.171938   \n",
       "\n",
       "                    year  \n",
       "index           0.014596  \n",
       "number          0.139381  \n",
       "orbital_period -0.033019  \n",
       "mass           -0.102629  \n",
       "distance        0.171938  \n",
       "year            1.000000  "
      ]
     },
     "execution_count": 9,
     "metadata": {},
     "output_type": "execute_result"
    }
   ],
   "source": [
    "df = train_data.corr()\n",
    "df"
   ]
  },
  {
   "cell_type": "code",
   "execution_count": 10,
   "id": "086ee525",
   "metadata": {
    "execution": {
     "iopub.execute_input": "2022-05-10T05:12:32.009229Z",
     "iopub.status.busy": "2022-05-10T05:12:32.008677Z",
     "iopub.status.idle": "2022-05-10T05:12:32.022033Z",
     "shell.execute_reply": "2022-05-10T05:12:32.021406Z"
    },
    "papermill": {
     "duration": 0.069111,
     "end_time": "2022-05-10T05:12:32.024004",
     "exception": false,
     "start_time": "2022-05-10T05:12:31.954893",
     "status": "completed"
    },
    "tags": []
   },
   "outputs": [
    {
     "data": {
      "text/html": [
       "<div>\n",
       "<style scoped>\n",
       "    .dataframe tbody tr th:only-of-type {\n",
       "        vertical-align: middle;\n",
       "    }\n",
       "\n",
       "    .dataframe tbody tr th {\n",
       "        vertical-align: top;\n",
       "    }\n",
       "\n",
       "    .dataframe thead th {\n",
       "        text-align: right;\n",
       "    }\n",
       "</style>\n",
       "<table border=\"1\" class=\"dataframe\">\n",
       "  <thead>\n",
       "    <tr style=\"text-align: right;\">\n",
       "      <th></th>\n",
       "      <th>index</th>\n",
       "      <th>number</th>\n",
       "      <th>orbital_period</th>\n",
       "      <th>mass</th>\n",
       "      <th>distance</th>\n",
       "      <th>year</th>\n",
       "    </tr>\n",
       "  </thead>\n",
       "  <tbody>\n",
       "    <tr>\n",
       "      <th>index</th>\n",
       "      <td>1.000000</td>\n",
       "      <td>-0.042313</td>\n",
       "      <td>-0.075087</td>\n",
       "      <td>0.025191</td>\n",
       "      <td>0.064172</td>\n",
       "      <td>-0.062581</td>\n",
       "    </tr>\n",
       "    <tr>\n",
       "      <th>number</th>\n",
       "      <td>-0.042313</td>\n",
       "      <td>1.000000</td>\n",
       "      <td>-0.120924</td>\n",
       "      <td>-0.258641</td>\n",
       "      <td>-0.040118</td>\n",
       "      <td>0.154960</td>\n",
       "    </tr>\n",
       "    <tr>\n",
       "      <th>orbital_period</th>\n",
       "      <td>-0.075087</td>\n",
       "      <td>-0.120924</td>\n",
       "      <td>1.000000</td>\n",
       "      <td>0.235283</td>\n",
       "      <td>-0.137524</td>\n",
       "      <td>-0.086453</td>\n",
       "    </tr>\n",
       "    <tr>\n",
       "      <th>mass</th>\n",
       "      <td>0.025191</td>\n",
       "      <td>-0.258641</td>\n",
       "      <td>0.235283</td>\n",
       "      <td>1.000000</td>\n",
       "      <td>0.304665</td>\n",
       "      <td>-0.177088</td>\n",
       "    </tr>\n",
       "    <tr>\n",
       "      <th>distance</th>\n",
       "      <td>0.064172</td>\n",
       "      <td>-0.040118</td>\n",
       "      <td>-0.137524</td>\n",
       "      <td>0.304665</td>\n",
       "      <td>1.000000</td>\n",
       "      <td>0.198086</td>\n",
       "    </tr>\n",
       "    <tr>\n",
       "      <th>year</th>\n",
       "      <td>-0.062581</td>\n",
       "      <td>0.154960</td>\n",
       "      <td>-0.086453</td>\n",
       "      <td>-0.177088</td>\n",
       "      <td>0.198086</td>\n",
       "      <td>1.000000</td>\n",
       "    </tr>\n",
       "  </tbody>\n",
       "</table>\n",
       "</div>"
      ],
      "text/plain": [
       "                   index    number  orbital_period      mass  distance  \\\n",
       "index           1.000000 -0.042313       -0.075087  0.025191  0.064172   \n",
       "number         -0.042313  1.000000       -0.120924 -0.258641 -0.040118   \n",
       "orbital_period -0.075087 -0.120924        1.000000  0.235283 -0.137524   \n",
       "mass            0.025191 -0.258641        0.235283  1.000000  0.304665   \n",
       "distance        0.064172 -0.040118       -0.137524  0.304665  1.000000   \n",
       "year           -0.062581  0.154960       -0.086453 -0.177088  0.198086   \n",
       "\n",
       "                    year  \n",
       "index          -0.062581  \n",
       "number          0.154960  \n",
       "orbital_period -0.086453  \n",
       "mass           -0.177088  \n",
       "distance        0.198086  \n",
       "year            1.000000  "
      ]
     },
     "execution_count": 10,
     "metadata": {},
     "output_type": "execute_result"
    }
   ],
   "source": [
    "sf = test_data.corr()\n",
    "sf"
   ]
  },
  {
   "cell_type": "code",
   "execution_count": 11,
   "id": "bb1b37b6",
   "metadata": {
    "execution": {
     "iopub.execute_input": "2022-05-10T05:12:32.129038Z",
     "iopub.status.busy": "2022-05-10T05:12:32.128477Z",
     "iopub.status.idle": "2022-05-10T05:12:33.614337Z",
     "shell.execute_reply": "2022-05-10T05:12:33.613169Z"
    },
    "papermill": {
     "duration": 1.54112,
     "end_time": "2022-05-10T05:12:33.616594",
     "exception": false,
     "start_time": "2022-05-10T05:12:32.075474",
     "status": "completed"
    },
    "tags": []
   },
   "outputs": [
    {
     "data": {
      "image/png": "[encoded data removed]",
      "text/plain": [
       "<Figure size 1440x1080 with 6 Axes>"
      ]
     },
     "metadata": {
      "needs_background": "light"
     },
     "output_type": "display_data"
    }
   ],
   "source": [
    "%matplotlib inline\n",
    "import matplotlib.pyplot as plt\n",
    "train_data.hist(bins=50, figsize=(20,15))\n",
    "plt.show()"
   ]
  },
  {
   "cell_type": "markdown",
   "id": "01135c72",
   "metadata": {
    "papermill": {
     "duration": 0.052804,
     "end_time": "2022-05-10T05:12:33.722460",
     "exception": false,
     "start_time": "2022-05-10T05:12:33.669656",
     "status": "completed"
    },
    "tags": []
   },
   "source": [
    "### 데이터 전처리\n",
    "- 베이스 코드에서는 간단하게 결측치를 0 값으로 채우도록 데이터를 전처리 하겠습니다.\n",
    "- 그리고 현재 method가 문자열이기에 이를 숫자로 변환하는 작업을 해주겠습니다."
   ]
  },
  {
   "cell_type": "code",
   "execution_count": 12,
   "id": "4a0a845e",
   "metadata": {
    "execution": {
     "iopub.execute_input": "2022-05-10T05:12:33.829676Z",
     "iopub.status.busy": "2022-05-10T05:12:33.828730Z",
     "iopub.status.idle": "2022-05-10T05:12:33.845079Z",
     "shell.execute_reply": "2022-05-10T05:12:33.844174Z"
    },
    "papermill": {
     "duration": 0.072557,
     "end_time": "2022-05-10T05:12:33.847406",
     "exception": false,
     "start_time": "2022-05-10T05:12:33.774849",
     "status": "completed"
    },
    "tags": []
   },
   "outputs": [],
   "source": [
    "#수치형 변수에 포함되는 데이터 타입 선정\n",
    "\n",
    "numerics = ['int16', 'int32', 'int64', 'float16', 'float32', 'float64']\n",
    "\n",
    "\n",
    "#결측치는 0으로 채우기\n",
    "\n",
    "train_data[train_data.select_dtypes(include=numerics).columns] = \\\n",
    "    train_data[train_data.select_dtypes(include=numerics).columns].fillna(0)\n",
    "#.fillna(train_data[train_data.select_dtypes(include=numerics).columns].median())\n",
    "\n",
    "test_data[test_data.select_dtypes(include=numerics).columns] = \\\n",
    "    test_data[test_data.select_dtypes(include=numerics).columns].fillna(0)"
   ]
  },
  {
   "cell_type": "code",
   "execution_count": 13,
   "id": "823eea6c",
   "metadata": {
    "execution": {
     "iopub.execute_input": "2022-05-10T05:12:33.956482Z",
     "iopub.status.busy": "2022-05-10T05:12:33.956184Z",
     "iopub.status.idle": "2022-05-10T05:12:33.966071Z",
     "shell.execute_reply": "2022-05-10T05:12:33.965365Z"
    },
    "papermill": {
     "duration": 0.066778,
     "end_time": "2022-05-10T05:12:33.968789",
     "exception": false,
     "start_time": "2022-05-10T05:12:33.902011",
     "status": "completed"
    },
    "tags": []
   },
   "outputs": [
    {
     "name": "stdout",
     "output_type": "stream",
     "text": [
      "train_data 결측치 확인:  index             0\n",
      "method            0\n",
      "number            0\n",
      "orbital_period    0\n",
      "mass              0\n",
      "distance          0\n",
      "year              0\n",
      "dtype: int64\n",
      "----------------------------------------------------\n",
      "test_data 결측치 확인:  index             0\n",
      "number            0\n",
      "orbital_period    0\n",
      "mass              0\n",
      "distance          0\n",
      "year              0\n",
      "dtype: int64\n"
     ]
    }
   ],
   "source": [
    "print(\"train_data 결측치 확인: \",train_data.isnull().sum())\n",
    "print(\"----------------------------------------------------\")\n",
    "print(\"test_data 결측치 확인: \",test_data.isnull().sum())"
   ]
  },
  {
   "cell_type": "code",
   "execution_count": 14,
   "id": "b0f573c5",
   "metadata": {
    "execution": {
     "iopub.execute_input": "2022-05-10T05:12:34.078005Z",
     "iopub.status.busy": "2022-05-10T05:12:34.077687Z",
     "iopub.status.idle": "2022-05-10T05:12:34.095479Z",
     "shell.execute_reply": "2022-05-10T05:12:34.094525Z"
    },
    "papermill": {
     "duration": 0.074531,
     "end_time": "2022-05-10T05:12:34.097636",
     "exception": false,
     "start_time": "2022-05-10T05:12:34.023105",
     "status": "completed"
    },
    "tags": []
   },
   "outputs": [
    {
     "data": {
      "text/html": [
       "<div>\n",
       "<style scoped>\n",
       "    .dataframe tbody tr th:only-of-type {\n",
       "        vertical-align: middle;\n",
       "    }\n",
       "\n",
       "    .dataframe tbody tr th {\n",
       "        vertical-align: top;\n",
       "    }\n",
       "\n",
       "    .dataframe thead th {\n",
       "        text-align: right;\n",
       "    }\n",
       "</style>\n",
       "<table border=\"1\" class=\"dataframe\">\n",
       "  <thead>\n",
       "    <tr style=\"text-align: right;\">\n",
       "      <th></th>\n",
       "      <th>number</th>\n",
       "      <th>orbital_period</th>\n",
       "      <th>mass</th>\n",
       "      <th>distance</th>\n",
       "      <th>year</th>\n",
       "    </tr>\n",
       "  </thead>\n",
       "  <tbody>\n",
       "    <tr>\n",
       "      <th>0</th>\n",
       "      <td>2</td>\n",
       "      <td>74.720000</td>\n",
       "      <td>0.05318</td>\n",
       "      <td>8.82</td>\n",
       "      <td>2011</td>\n",
       "    </tr>\n",
       "    <tr>\n",
       "      <th>1</th>\n",
       "      <td>1</td>\n",
       "      <td>2.994330</td>\n",
       "      <td>0.00000</td>\n",
       "      <td>560.00</td>\n",
       "      <td>2010</td>\n",
       "    </tr>\n",
       "    <tr>\n",
       "      <th>2</th>\n",
       "      <td>6</td>\n",
       "      <td>10.303900</td>\n",
       "      <td>0.00000</td>\n",
       "      <td>613.00</td>\n",
       "      <td>2010</td>\n",
       "    </tr>\n",
       "    <tr>\n",
       "      <th>3</th>\n",
       "      <td>1</td>\n",
       "      <td>0.000000</td>\n",
       "      <td>0.00000</td>\n",
       "      <td>91.83</td>\n",
       "      <td>2013</td>\n",
       "    </tr>\n",
       "    <tr>\n",
       "      <th>4</th>\n",
       "      <td>1</td>\n",
       "      <td>2.465020</td>\n",
       "      <td>0.00000</td>\n",
       "      <td>0.00</td>\n",
       "      <td>2014</td>\n",
       "    </tr>\n",
       "    <tr>\n",
       "      <th>...</th>\n",
       "      <td>...</td>\n",
       "      <td>...</td>\n",
       "      <td>...</td>\n",
       "      <td>...</td>\n",
       "      <td>...</td>\n",
       "    </tr>\n",
       "    <tr>\n",
       "      <th>280</th>\n",
       "      <td>6</td>\n",
       "      <td>16.356700</td>\n",
       "      <td>0.03800</td>\n",
       "      <td>39.39</td>\n",
       "      <td>2010</td>\n",
       "    </tr>\n",
       "    <tr>\n",
       "      <th>281</th>\n",
       "      <td>5</td>\n",
       "      <td>44.380000</td>\n",
       "      <td>0.16500</td>\n",
       "      <td>12.53</td>\n",
       "      <td>2004</td>\n",
       "    </tr>\n",
       "    <tr>\n",
       "      <th>282</th>\n",
       "      <td>1</td>\n",
       "      <td>615.000000</td>\n",
       "      <td>0.29000</td>\n",
       "      <td>35.88</td>\n",
       "      <td>2011</td>\n",
       "    </tr>\n",
       "    <tr>\n",
       "      <th>283</th>\n",
       "      <td>1</td>\n",
       "      <td>2.484193</td>\n",
       "      <td>0.00000</td>\n",
       "      <td>260.00</td>\n",
       "      <td>2013</td>\n",
       "    </tr>\n",
       "    <tr>\n",
       "      <th>284</th>\n",
       "      <td>3</td>\n",
       "      <td>4.215000</td>\n",
       "      <td>0.01600</td>\n",
       "      <td>8.52</td>\n",
       "      <td>2009</td>\n",
       "    </tr>\n",
       "  </tbody>\n",
       "</table>\n",
       "<p>285 rows × 5 columns</p>\n",
       "</div>"
      ],
      "text/plain": [
       "     number  orbital_period     mass  distance  year\n",
       "0         2       74.720000  0.05318      8.82  2011\n",
       "1         1        2.994330  0.00000    560.00  2010\n",
       "2         6       10.303900  0.00000    613.00  2010\n",
       "3         1        0.000000  0.00000     91.83  2013\n",
       "4         1        2.465020  0.00000      0.00  2014\n",
       "..      ...             ...      ...       ...   ...\n",
       "280       6       16.356700  0.03800     39.39  2010\n",
       "281       5       44.380000  0.16500     12.53  2004\n",
       "282       1      615.000000  0.29000     35.88  2011\n",
       "283       1        2.484193  0.00000    260.00  2013\n",
       "284       3        4.215000  0.01600      8.52  2009\n",
       "\n",
       "[285 rows x 5 columns]"
      ]
     },
     "execution_count": 14,
     "metadata": {},
     "output_type": "execute_result"
    }
   ],
   "source": [
    "test_data_re = test_data.drop(['index'], axis=1)\n",
    "test_data_re"
   ]
  },
  {
   "cell_type": "code",
   "execution_count": 15,
   "id": "7a45c806",
   "metadata": {
    "execution": {
     "iopub.execute_input": "2022-05-10T05:12:34.206468Z",
     "iopub.status.busy": "2022-05-10T05:12:34.206142Z",
     "iopub.status.idle": "2022-05-10T05:12:34.224543Z",
     "shell.execute_reply": "2022-05-10T05:12:34.223722Z"
    },
    "papermill": {
     "duration": 0.075424,
     "end_time": "2022-05-10T05:12:34.226529",
     "exception": false,
     "start_time": "2022-05-10T05:12:34.151105",
     "status": "completed"
    },
    "tags": []
   },
   "outputs": [
    {
     "data": {
      "text/html": [
       "<div>\n",
       "<style scoped>\n",
       "    .dataframe tbody tr th:only-of-type {\n",
       "        vertical-align: middle;\n",
       "    }\n",
       "\n",
       "    .dataframe tbody tr th {\n",
       "        vertical-align: top;\n",
       "    }\n",
       "\n",
       "    .dataframe thead th {\n",
       "        text-align: right;\n",
       "    }\n",
       "</style>\n",
       "<table border=\"1\" class=\"dataframe\">\n",
       "  <thead>\n",
       "    <tr style=\"text-align: right;\">\n",
       "      <th></th>\n",
       "      <th>method</th>\n",
       "      <th>number</th>\n",
       "      <th>orbital_period</th>\n",
       "      <th>mass</th>\n",
       "      <th>distance</th>\n",
       "      <th>year</th>\n",
       "    </tr>\n",
       "  </thead>\n",
       "  <tbody>\n",
       "    <tr>\n",
       "      <th>0</th>\n",
       "      <td>Radial Velocity</td>\n",
       "      <td>4</td>\n",
       "      <td>241.258000</td>\n",
       "      <td>1.98100</td>\n",
       "      <td>13.47</td>\n",
       "      <td>1999</td>\n",
       "    </tr>\n",
       "    <tr>\n",
       "      <th>1</th>\n",
       "      <td>Transit</td>\n",
       "      <td>1</td>\n",
       "      <td>1.337118</td>\n",
       "      <td>0.00000</td>\n",
       "      <td>0.00</td>\n",
       "      <td>2011</td>\n",
       "    </tr>\n",
       "    <tr>\n",
       "      <th>2</th>\n",
       "      <td>Transit</td>\n",
       "      <td>1</td>\n",
       "      <td>1.573292</td>\n",
       "      <td>0.00000</td>\n",
       "      <td>350.00</td>\n",
       "      <td>2012</td>\n",
       "    </tr>\n",
       "    <tr>\n",
       "      <th>3</th>\n",
       "      <td>Radial Velocity</td>\n",
       "      <td>2</td>\n",
       "      <td>3000.000000</td>\n",
       "      <td>0.00000</td>\n",
       "      <td>0.00</td>\n",
       "      <td>2014</td>\n",
       "    </tr>\n",
       "    <tr>\n",
       "      <th>4</th>\n",
       "      <td>Radial Velocity</td>\n",
       "      <td>1</td>\n",
       "      <td>9.494000</td>\n",
       "      <td>0.02600</td>\n",
       "      <td>21.30</td>\n",
       "      <td>2010</td>\n",
       "    </tr>\n",
       "    <tr>\n",
       "      <th>...</th>\n",
       "      <td>...</td>\n",
       "      <td>...</td>\n",
       "      <td>...</td>\n",
       "      <td>...</td>\n",
       "      <td>...</td>\n",
       "      <td>...</td>\n",
       "    </tr>\n",
       "    <tr>\n",
       "      <th>746</th>\n",
       "      <td>Radial Velocity</td>\n",
       "      <td>1</td>\n",
       "      <td>772.000000</td>\n",
       "      <td>2.70000</td>\n",
       "      <td>127.88</td>\n",
       "      <td>2011</td>\n",
       "    </tr>\n",
       "    <tr>\n",
       "      <th>747</th>\n",
       "      <td>Radial Velocity</td>\n",
       "      <td>1</td>\n",
       "      <td>829.000000</td>\n",
       "      <td>0.80000</td>\n",
       "      <td>32.70</td>\n",
       "      <td>2001</td>\n",
       "    </tr>\n",
       "    <tr>\n",
       "      <th>748</th>\n",
       "      <td>Radial Velocity</td>\n",
       "      <td>1</td>\n",
       "      <td>3.092500</td>\n",
       "      <td>0.95000</td>\n",
       "      <td>27.05</td>\n",
       "      <td>2000</td>\n",
       "    </tr>\n",
       "    <tr>\n",
       "      <th>749</th>\n",
       "      <td>Transit</td>\n",
       "      <td>2</td>\n",
       "      <td>27.402000</td>\n",
       "      <td>0.00000</td>\n",
       "      <td>0.00</td>\n",
       "      <td>2012</td>\n",
       "    </tr>\n",
       "    <tr>\n",
       "      <th>750</th>\n",
       "      <td>Radial Velocity</td>\n",
       "      <td>2</td>\n",
       "      <td>74.720000</td>\n",
       "      <td>0.05318</td>\n",
       "      <td>8.82</td>\n",
       "      <td>2011</td>\n",
       "    </tr>\n",
       "  </tbody>\n",
       "</table>\n",
       "<p>751 rows × 6 columns</p>\n",
       "</div>"
      ],
      "text/plain": [
       "              method  number  orbital_period     mass  distance  year\n",
       "0    Radial Velocity       4      241.258000  1.98100     13.47  1999\n",
       "1            Transit       1        1.337118  0.00000      0.00  2011\n",
       "2            Transit       1        1.573292  0.00000    350.00  2012\n",
       "3    Radial Velocity       2     3000.000000  0.00000      0.00  2014\n",
       "4    Radial Velocity       1        9.494000  0.02600     21.30  2010\n",
       "..               ...     ...             ...      ...       ...   ...\n",
       "746  Radial Velocity       1      772.000000  2.70000    127.88  2011\n",
       "747  Radial Velocity       1      829.000000  0.80000     32.70  2001\n",
       "748  Radial Velocity       1        3.092500  0.95000     27.05  2000\n",
       "749          Transit       2       27.402000  0.00000      0.00  2012\n",
       "750  Radial Velocity       2       74.720000  0.05318      8.82  2011\n",
       "\n",
       "[751 rows x 6 columns]"
      ]
     },
     "execution_count": 15,
     "metadata": {},
     "output_type": "execute_result"
    }
   ],
   "source": [
    "train_data_re = train_data.drop(['index'], axis=1)\n",
    "train_data_re"
   ]
  },
  {
   "cell_type": "code",
   "execution_count": 16,
   "id": "4385a8b6",
   "metadata": {
    "execution": {
     "iopub.execute_input": "2022-05-10T05:12:34.337944Z",
     "iopub.status.busy": "2022-05-10T05:12:34.337505Z",
     "iopub.status.idle": "2022-05-10T05:12:34.350049Z",
     "shell.execute_reply": "2022-05-10T05:12:34.349236Z"
    },
    "papermill": {
     "duration": 0.071504,
     "end_time": "2022-05-10T05:12:34.352123",
     "exception": false,
     "start_time": "2022-05-10T05:12:34.280619",
     "status": "completed"
    },
    "tags": []
   },
   "outputs": [
    {
     "data": {
      "text/html": [
       "<div>\n",
       "<style scoped>\n",
       "    .dataframe tbody tr th:only-of-type {\n",
       "        vertical-align: middle;\n",
       "    }\n",
       "\n",
       "    .dataframe tbody tr th {\n",
       "        vertical-align: top;\n",
       "    }\n",
       "\n",
       "    .dataframe thead th {\n",
       "        text-align: right;\n",
       "    }\n",
       "</style>\n",
       "<table border=\"1\" class=\"dataframe\">\n",
       "  <thead>\n",
       "    <tr style=\"text-align: right;\">\n",
       "      <th></th>\n",
       "      <th>number</th>\n",
       "      <th>orbital_period</th>\n",
       "      <th>mass</th>\n",
       "      <th>distance</th>\n",
       "      <th>year</th>\n",
       "    </tr>\n",
       "  </thead>\n",
       "  <tbody>\n",
       "    <tr>\n",
       "      <th>number</th>\n",
       "      <td>1.000000</td>\n",
       "      <td>-0.007949</td>\n",
       "      <td>-0.162993</td>\n",
       "      <td>-0.040461</td>\n",
       "      <td>0.139381</td>\n",
       "    </tr>\n",
       "    <tr>\n",
       "      <th>orbital_period</th>\n",
       "      <td>-0.007949</td>\n",
       "      <td>1.000000</td>\n",
       "      <td>-0.018106</td>\n",
       "      <td>-0.022731</td>\n",
       "      <td>-0.033071</td>\n",
       "    </tr>\n",
       "    <tr>\n",
       "      <th>mass</th>\n",
       "      <td>-0.162993</td>\n",
       "      <td>-0.018106</td>\n",
       "      <td>1.000000</td>\n",
       "      <td>-0.094676</td>\n",
       "      <td>-0.246318</td>\n",
       "    </tr>\n",
       "    <tr>\n",
       "      <th>distance</th>\n",
       "      <td>-0.040461</td>\n",
       "      <td>-0.022731</td>\n",
       "      <td>-0.094676</td>\n",
       "      <td>1.000000</td>\n",
       "      <td>0.102533</td>\n",
       "    </tr>\n",
       "    <tr>\n",
       "      <th>year</th>\n",
       "      <td>0.139381</td>\n",
       "      <td>-0.033071</td>\n",
       "      <td>-0.246318</td>\n",
       "      <td>0.102533</td>\n",
       "      <td>1.000000</td>\n",
       "    </tr>\n",
       "  </tbody>\n",
       "</table>\n",
       "</div>"
      ],
      "text/plain": [
       "                  number  orbital_period      mass  distance      year\n",
       "number          1.000000       -0.007949 -0.162993 -0.040461  0.139381\n",
       "orbital_period -0.007949        1.000000 -0.018106 -0.022731 -0.033071\n",
       "mass           -0.162993       -0.018106  1.000000 -0.094676 -0.246318\n",
       "distance       -0.040461       -0.022731 -0.094676  1.000000  0.102533\n",
       "year            0.139381       -0.033071 -0.246318  0.102533  1.000000"
      ]
     },
     "execution_count": 16,
     "metadata": {},
     "output_type": "execute_result"
    }
   ],
   "source": [
    "df = train_data_re.corr()\n",
    "df"
   ]
  },
  {
   "cell_type": "code",
   "execution_count": 17,
   "id": "7877d595",
   "metadata": {
    "execution": {
     "iopub.execute_input": "2022-05-10T05:12:34.464261Z",
     "iopub.status.busy": "2022-05-10T05:12:34.463979Z",
     "iopub.status.idle": "2022-05-10T05:12:34.478253Z",
     "shell.execute_reply": "2022-05-10T05:12:34.477175Z"
    },
    "papermill": {
     "duration": 0.073646,
     "end_time": "2022-05-10T05:12:34.480521",
     "exception": false,
     "start_time": "2022-05-10T05:12:34.406875",
     "status": "completed"
    },
    "tags": []
   },
   "outputs": [
    {
     "data": {
      "text/html": [
       "<div>\n",
       "<style scoped>\n",
       "    .dataframe tbody tr th:only-of-type {\n",
       "        vertical-align: middle;\n",
       "    }\n",
       "\n",
       "    .dataframe tbody tr th {\n",
       "        vertical-align: top;\n",
       "    }\n",
       "\n",
       "    .dataframe thead th {\n",
       "        text-align: right;\n",
       "    }\n",
       "</style>\n",
       "<table border=\"1\" class=\"dataframe\">\n",
       "  <thead>\n",
       "    <tr style=\"text-align: right;\">\n",
       "      <th></th>\n",
       "      <th>number</th>\n",
       "      <th>orbital_period</th>\n",
       "      <th>mass</th>\n",
       "      <th>distance</th>\n",
       "      <th>year</th>\n",
       "    </tr>\n",
       "  </thead>\n",
       "  <tbody>\n",
       "    <tr>\n",
       "      <th>number</th>\n",
       "      <td>1.000000</td>\n",
       "      <td>-0.007949</td>\n",
       "      <td>-0.162993</td>\n",
       "      <td>-0.040461</td>\n",
       "      <td>0.139381</td>\n",
       "    </tr>\n",
       "    <tr>\n",
       "      <th>orbital_period</th>\n",
       "      <td>-0.007949</td>\n",
       "      <td>1.000000</td>\n",
       "      <td>-0.018106</td>\n",
       "      <td>-0.022731</td>\n",
       "      <td>-0.033071</td>\n",
       "    </tr>\n",
       "    <tr>\n",
       "      <th>mass</th>\n",
       "      <td>-0.162993</td>\n",
       "      <td>-0.018106</td>\n",
       "      <td>1.000000</td>\n",
       "      <td>-0.094676</td>\n",
       "      <td>-0.246318</td>\n",
       "    </tr>\n",
       "    <tr>\n",
       "      <th>distance</th>\n",
       "      <td>-0.040461</td>\n",
       "      <td>-0.022731</td>\n",
       "      <td>-0.094676</td>\n",
       "      <td>1.000000</td>\n",
       "      <td>0.102533</td>\n",
       "    </tr>\n",
       "    <tr>\n",
       "      <th>year</th>\n",
       "      <td>0.139381</td>\n",
       "      <td>-0.033071</td>\n",
       "      <td>-0.246318</td>\n",
       "      <td>0.102533</td>\n",
       "      <td>1.000000</td>\n",
       "    </tr>\n",
       "  </tbody>\n",
       "</table>\n",
       "</div>"
      ],
      "text/plain": [
       "                  number  orbital_period      mass  distance      year\n",
       "number          1.000000       -0.007949 -0.162993 -0.040461  0.139381\n",
       "orbital_period -0.007949        1.000000 -0.018106 -0.022731 -0.033071\n",
       "mass           -0.162993       -0.018106  1.000000 -0.094676 -0.246318\n",
       "distance       -0.040461       -0.022731 -0.094676  1.000000  0.102533\n",
       "year            0.139381       -0.033071 -0.246318  0.102533  1.000000"
      ]
     },
     "execution_count": 17,
     "metadata": {},
     "output_type": "execute_result"
    }
   ],
   "source": [
    "sf = train_data_re.corr()\n",
    "sf"
   ]
  },
  {
   "cell_type": "code",
   "execution_count": 18,
   "id": "d9359a3a",
   "metadata": {
    "execution": {
     "iopub.execute_input": "2022-05-10T05:12:34.599648Z",
     "iopub.status.busy": "2022-05-10T05:12:34.599038Z",
     "iopub.status.idle": "2022-05-10T05:12:35.773716Z",
     "shell.execute_reply": "2022-05-10T05:12:35.772650Z"
    },
    "papermill": {
     "duration": 1.23812,
     "end_time": "2022-05-10T05:12:35.776304",
     "exception": false,
     "start_time": "2022-05-10T05:12:34.538184",
     "status": "completed"
    },
    "tags": []
   },
   "outputs": [],
   "source": [
    "from sklearn.preprocessing import LabelEncoder\n",
    "\n",
    "encoder = LabelEncoder()\n",
    "encoder.fit(train_data['method'])\n",
    "train_data['method'] = encoder.transform(train_data['method'])"
   ]
  },
  {
   "cell_type": "code",
   "execution_count": 19,
   "id": "f71a576e",
   "metadata": {
    "execution": {
     "iopub.execute_input": "2022-05-10T05:12:35.896681Z",
     "iopub.status.busy": "2022-05-10T05:12:35.896365Z",
     "iopub.status.idle": "2022-05-10T05:12:35.902177Z",
     "shell.execute_reply": "2022-05-10T05:12:35.901280Z"
    },
    "papermill": {
     "duration": 0.068922,
     "end_time": "2022-05-10T05:12:35.904698",
     "exception": false,
     "start_time": "2022-05-10T05:12:35.835776",
     "status": "completed"
    },
    "tags": []
   },
   "outputs": [],
   "source": [
    "encoder.fit(train_data_re['method'])\n",
    "train_data_re['method'] = encoder.transform(train_data_re['method'])"
   ]
  },
  {
   "cell_type": "code",
   "execution_count": 20,
   "id": "580d0173",
   "metadata": {
    "execution": {
     "iopub.execute_input": "2022-05-10T05:12:36.023425Z",
     "iopub.status.busy": "2022-05-10T05:12:36.023141Z",
     "iopub.status.idle": "2022-05-10T05:12:36.031354Z",
     "shell.execute_reply": "2022-05-10T05:12:36.030509Z"
    },
    "papermill": {
     "duration": 0.069694,
     "end_time": "2022-05-10T05:12:36.033469",
     "exception": false,
     "start_time": "2022-05-10T05:12:35.963775",
     "status": "completed"
    },
    "tags": []
   },
   "outputs": [
    {
     "data": {
      "text/plain": [
       "0      0\n",
       "1      1\n",
       "2      1\n",
       "3      0\n",
       "4      0\n",
       "      ..\n",
       "746    0\n",
       "747    0\n",
       "748    0\n",
       "749    1\n",
       "750    0\n",
       "Name: method, Length: 751, dtype: int64"
      ]
     },
     "execution_count": 20,
     "metadata": {},
     "output_type": "execute_result"
    }
   ],
   "source": [
    "train_data['method']"
   ]
  },
  {
   "cell_type": "code",
   "execution_count": 21,
   "id": "081195f4",
   "metadata": {
    "execution": {
     "iopub.execute_input": "2022-05-10T05:12:36.146532Z",
     "iopub.status.busy": "2022-05-10T05:12:36.146233Z",
     "iopub.status.idle": "2022-05-10T05:12:36.154359Z",
     "shell.execute_reply": "2022-05-10T05:12:36.153479Z"
    },
    "papermill": {
     "duration": 0.066689,
     "end_time": "2022-05-10T05:12:36.156404",
     "exception": false,
     "start_time": "2022-05-10T05:12:36.089715",
     "status": "completed"
    },
    "tags": []
   },
   "outputs": [
    {
     "data": {
      "text/plain": [
       "0      0\n",
       "1      1\n",
       "2      1\n",
       "3      0\n",
       "4      0\n",
       "      ..\n",
       "746    0\n",
       "747    0\n",
       "748    0\n",
       "749    1\n",
       "750    0\n",
       "Name: method, Length: 751, dtype: int64"
      ]
     },
     "execution_count": 21,
     "metadata": {},
     "output_type": "execute_result"
    }
   ],
   "source": [
    "train_data_re['method']"
   ]
  },
  {
   "cell_type": "code",
   "execution_count": 22,
   "id": "1385c809",
   "metadata": {
    "execution": {
     "iopub.execute_input": "2022-05-10T05:12:36.275938Z",
     "iopub.status.busy": "2022-05-10T05:12:36.275641Z",
     "iopub.status.idle": "2022-05-10T05:12:36.279477Z",
     "shell.execute_reply": "2022-05-10T05:12:36.278514Z"
    },
    "papermill": {
     "duration": 0.066095,
     "end_time": "2022-05-10T05:12:36.281468",
     "exception": false,
     "start_time": "2022-05-10T05:12:36.215373",
     "status": "completed"
    },
    "tags": []
   },
   "outputs": [],
   "source": [
    "#train_data_re = train_data_re.drop(['number'], axis=1)\n",
    "#test_data_re = test_data_re.drop(['number'], axis=1)\n",
    "#test_data_re"
   ]
  },
  {
   "cell_type": "code",
   "execution_count": 23,
   "id": "d744c554",
   "metadata": {
    "execution": {
     "iopub.execute_input": "2022-05-10T05:12:36.396198Z",
     "iopub.status.busy": "2022-05-10T05:12:36.395900Z",
     "iopub.status.idle": "2022-05-10T05:12:36.411320Z",
     "shell.execute_reply": "2022-05-10T05:12:36.410336Z"
    },
    "papermill": {
     "duration": 0.075917,
     "end_time": "2022-05-10T05:12:36.413591",
     "exception": false,
     "start_time": "2022-05-10T05:12:36.337674",
     "status": "completed"
    },
    "tags": []
   },
   "outputs": [
    {
     "data": {
      "text/html": [
       "<div>\n",
       "<style scoped>\n",
       "    .dataframe tbody tr th:only-of-type {\n",
       "        vertical-align: middle;\n",
       "    }\n",
       "\n",
       "    .dataframe tbody tr th {\n",
       "        vertical-align: top;\n",
       "    }\n",
       "\n",
       "    .dataframe thead th {\n",
       "        text-align: right;\n",
       "    }\n",
       "</style>\n",
       "<table border=\"1\" class=\"dataframe\">\n",
       "  <thead>\n",
       "    <tr style=\"text-align: right;\">\n",
       "      <th></th>\n",
       "      <th>method</th>\n",
       "      <th>number</th>\n",
       "      <th>orbital_period</th>\n",
       "      <th>mass</th>\n",
       "      <th>distance</th>\n",
       "      <th>year</th>\n",
       "    </tr>\n",
       "  </thead>\n",
       "  <tbody>\n",
       "    <tr>\n",
       "      <th>method</th>\n",
       "      <td>1.000000</td>\n",
       "      <td>0.029439</td>\n",
       "      <td>0.139096</td>\n",
       "      <td>-0.368148</td>\n",
       "      <td>0.257297</td>\n",
       "      <td>0.334770</td>\n",
       "    </tr>\n",
       "    <tr>\n",
       "      <th>number</th>\n",
       "      <td>0.029439</td>\n",
       "      <td>1.000000</td>\n",
       "      <td>-0.007949</td>\n",
       "      <td>-0.162993</td>\n",
       "      <td>-0.040461</td>\n",
       "      <td>0.139381</td>\n",
       "    </tr>\n",
       "    <tr>\n",
       "      <th>orbital_period</th>\n",
       "      <td>0.139096</td>\n",
       "      <td>-0.007949</td>\n",
       "      <td>1.000000</td>\n",
       "      <td>-0.018106</td>\n",
       "      <td>-0.022731</td>\n",
       "      <td>-0.033071</td>\n",
       "    </tr>\n",
       "    <tr>\n",
       "      <th>mass</th>\n",
       "      <td>-0.368148</td>\n",
       "      <td>-0.162993</td>\n",
       "      <td>-0.018106</td>\n",
       "      <td>1.000000</td>\n",
       "      <td>-0.094676</td>\n",
       "      <td>-0.246318</td>\n",
       "    </tr>\n",
       "    <tr>\n",
       "      <th>distance</th>\n",
       "      <td>0.257297</td>\n",
       "      <td>-0.040461</td>\n",
       "      <td>-0.022731</td>\n",
       "      <td>-0.094676</td>\n",
       "      <td>1.000000</td>\n",
       "      <td>0.102533</td>\n",
       "    </tr>\n",
       "    <tr>\n",
       "      <th>year</th>\n",
       "      <td>0.334770</td>\n",
       "      <td>0.139381</td>\n",
       "      <td>-0.033071</td>\n",
       "      <td>-0.246318</td>\n",
       "      <td>0.102533</td>\n",
       "      <td>1.000000</td>\n",
       "    </tr>\n",
       "  </tbody>\n",
       "</table>\n",
       "</div>"
      ],
      "text/plain": [
       "                  method    number  orbital_period      mass  distance  \\\n",
       "method          1.000000  0.029439        0.139096 -0.368148  0.257297   \n",
       "number          0.029439  1.000000       -0.007949 -0.162993 -0.040461   \n",
       "orbital_period  0.139096 -0.007949        1.000000 -0.018106 -0.022731   \n",
       "mass           -0.368148 -0.162993       -0.018106  1.000000 -0.094676   \n",
       "distance        0.257297 -0.040461       -0.022731 -0.094676  1.000000   \n",
       "year            0.334770  0.139381       -0.033071 -0.246318  0.102533   \n",
       "\n",
       "                    year  \n",
       "method          0.334770  \n",
       "number          0.139381  \n",
       "orbital_period -0.033071  \n",
       "mass           -0.246318  \n",
       "distance        0.102533  \n",
       "year            1.000000  "
      ]
     },
     "execution_count": 23,
     "metadata": {},
     "output_type": "execute_result"
    }
   ],
   "source": [
    "df = train_data_re.corr()\n",
    "df"
   ]
  },
  {
   "cell_type": "markdown",
   "id": "be67a28e",
   "metadata": {
    "papermill": {
     "duration": 0.056981,
     "end_time": "2022-05-10T05:12:36.529907",
     "exception": false,
     "start_time": "2022-05-10T05:12:36.472926",
     "status": "completed"
    },
    "tags": []
   },
   "source": [
    "### 검증 데이터로 분리\n",
    "- 베이스 코드에는 모델의 성능을 비교해보기 위해  train 데이터에서 일부를 validation 데이터로 나눠서 진행하겠습니다.(의무사항 아님)"
   ]
  },
  {
   "cell_type": "code",
   "execution_count": 24,
   "id": "5f148d7e",
   "metadata": {
    "execution": {
     "iopub.execute_input": "2022-05-10T05:12:36.645078Z",
     "iopub.status.busy": "2022-05-10T05:12:36.644791Z",
     "iopub.status.idle": "2022-05-10T05:12:36.719326Z",
     "shell.execute_reply": "2022-05-10T05:12:36.718515Z"
    },
    "papermill": {
     "duration": 0.134501,
     "end_time": "2022-05-10T05:12:36.721811",
     "exception": false,
     "start_time": "2022-05-10T05:12:36.587310",
     "status": "completed"
    },
    "tags": []
   },
   "outputs": [],
   "source": [
    "from sklearn.model_selection import train_test_split\n",
    "\n",
    "train_data_re, val_data = train_test_split(train_data_re, test_size = 0.3, random_state=2002, shuffle=True)"
   ]
  },
  {
   "cell_type": "code",
   "execution_count": 25,
   "id": "75e35e88",
   "metadata": {
    "execution": {
     "iopub.execute_input": "2022-05-10T05:12:36.836299Z",
     "iopub.status.busy": "2022-05-10T05:12:36.835988Z",
     "iopub.status.idle": "2022-05-10T05:12:36.841263Z",
     "shell.execute_reply": "2022-05-10T05:12:36.840313Z"
    },
    "papermill": {
     "duration": 0.065662,
     "end_time": "2022-05-10T05:12:36.844027",
     "exception": false,
     "start_time": "2022-05-10T05:12:36.778365",
     "status": "completed"
    },
    "tags": []
   },
   "outputs": [
    {
     "name": "stdout",
     "output_type": "stream",
     "text": [
      "(525, 6)\n",
      "(226, 6)\n"
     ]
    }
   ],
   "source": [
    "print(train_data_re.shape)\n",
    "print(val_data.shape)"
   ]
  },
  {
   "cell_type": "code",
   "execution_count": 26,
   "id": "59989e15",
   "metadata": {
    "execution": {
     "iopub.execute_input": "2022-05-10T05:12:36.964558Z",
     "iopub.status.busy": "2022-05-10T05:12:36.964246Z",
     "iopub.status.idle": "2022-05-10T05:12:36.974999Z",
     "shell.execute_reply": "2022-05-10T05:12:36.973960Z"
    },
    "papermill": {
     "duration": 0.074229,
     "end_time": "2022-05-10T05:12:36.977305",
     "exception": false,
     "start_time": "2022-05-10T05:12:36.903076",
     "status": "completed"
    },
    "tags": []
   },
   "outputs": [
    {
     "name": "stdout",
     "output_type": "stream",
     "text": [
      "X_train의 shape:  (525, 5)\n",
      "X_val의 shape:  (226, 5)\n",
      "X_test의 shape:  (285, 5)\n",
      "\t\n",
      "y_train의 shape:  (525,)\n",
      "y_val의 shape:  (226,)\n"
     ]
    }
   ],
   "source": [
    "X_train = train_data_re.drop(['method'], axis = 1)\n",
    "X_val = val_data.drop(['method'], axis = 1)\n",
    "X_test = test_data_re\n",
    "\n",
    "y_train = train_data_re['method']\n",
    "y_val = val_data['method']\n",
    "\n",
    "\n",
    "print(\"X_train의 shape: \", X_train.shape)\n",
    "print(\"X_val의 shape: \", X_val.shape)\n",
    "print(\"X_test의 shape: \", X_test.shape)\n",
    "print(\"\\t\")\n",
    "print(\"y_train의 shape: \", y_train.shape)\n",
    "print(\"y_val의 shape: \", y_val.shape)"
   ]
  },
  {
   "cell_type": "code",
   "execution_count": 27,
   "id": "184e843f",
   "metadata": {
    "execution": {
     "iopub.execute_input": "2022-05-10T05:12:37.094868Z",
     "iopub.status.busy": "2022-05-10T05:12:37.094452Z",
     "iopub.status.idle": "2022-05-10T05:12:37.119918Z",
     "shell.execute_reply": "2022-05-10T05:12:37.116488Z"
    },
    "papermill": {
     "duration": 0.086527,
     "end_time": "2022-05-10T05:12:37.122462",
     "exception": false,
     "start_time": "2022-05-10T05:12:37.035935",
     "status": "completed"
    },
    "tags": []
   },
   "outputs": [
    {
     "name": "stdout",
     "output_type": "stream",
     "text": [
      "     number  orbital_period  mass  distance  year\n",
      "729       1        4.426400  0.00      0.00  2012\n",
      "621       1        3.855900  0.00    480.00  2012\n",
      "501       1        0.000000  0.00    140.00  2004\n",
      "602       1        6.495000  0.96    121.07  2010\n",
      "448       4       13.570800  0.00      0.00  2014\n",
      "..      ...             ...   ...       ...   ...\n",
      "56        1      163.900000  5.02     65.79  2008\n",
      "684       1        1.763589  0.00      0.00  2011\n",
      "329       1        1.628431  0.00    300.00  2008\n",
      "402       1        9.434150  0.00    200.00  2013\n",
      "593       1        2.423804  0.00      0.00  2011\n",
      "\n",
      "[525 rows x 5 columns]\n",
      "     number  orbital_period     mass  distance  year\n",
      "723       1     1840.000000  1.60000     67.61  2009\n",
      "507       1       41.397000  0.29800     11.03  2010\n",
      "719       2       12.282900  0.00000      0.00  2011\n",
      "401       1      225.700000  0.21000     29.94  2010\n",
      "599       1       48.056000  0.21000     51.26  2005\n",
      "..      ...             ...      ...       ...   ...\n",
      "6         3        6.673855  3.88000     52.88  2005\n",
      "627       1       11.523100  0.00000      0.00  2014\n",
      "462       1     1970.000000  0.00000      0.00  2010\n",
      "260       1        0.090706  0.00000   1200.00  2011\n",
      "109       2       53.881000  0.06472     32.31  2011\n",
      "\n",
      "[226 rows x 5 columns]\n",
      "     number  orbital_period     mass  distance  year\n",
      "0         2       74.720000  0.05318      8.82  2011\n",
      "1         1        2.994330  0.00000    560.00  2010\n",
      "2         6       10.303900  0.00000    613.00  2010\n",
      "3         1        0.000000  0.00000     91.83  2013\n",
      "4         1        2.465020  0.00000      0.00  2014\n",
      "..      ...             ...      ...       ...   ...\n",
      "280       6       16.356700  0.03800     39.39  2010\n",
      "281       5       44.380000  0.16500     12.53  2004\n",
      "282       1      615.000000  0.29000     35.88  2011\n",
      "283       1        2.484193  0.00000    260.00  2013\n",
      "284       3        4.215000  0.01600      8.52  2009\n",
      "\n",
      "[285 rows x 5 columns]\n",
      "729    0\n",
      "621    1\n",
      "501    2\n",
      "602    0\n",
      "448    1\n",
      "      ..\n",
      "56     0\n",
      "684    1\n",
      "329    1\n",
      "402    1\n",
      "593    1\n",
      "Name: method, Length: 525, dtype: int64\n",
      "723    0\n",
      "507    0\n",
      "719    1\n",
      "401    0\n",
      "599    0\n",
      "      ..\n",
      "6      0\n",
      "627    1\n",
      "462    2\n",
      "260    2\n",
      "109    0\n",
      "Name: method, Length: 226, dtype: int64\n"
     ]
    }
   ],
   "source": [
    "print(X_train)\n",
    "print(X_val)\n",
    "print(X_test)\n",
    "print(y_train)\n",
    "print(y_val)"
   ]
  },
  {
   "cell_type": "markdown",
   "id": "6115f4f5",
   "metadata": {
    "papermill": {
     "duration": 0.05957,
     "end_time": "2022-05-10T05:12:37.241919",
     "exception": false,
     "start_time": "2022-05-10T05:12:37.182349",
     "status": "completed"
    },
    "tags": []
   },
   "source": [
    "### 모델 학습"
   ]
  },
  {
   "cell_type": "code",
   "execution_count": 28,
   "id": "7a66c211",
   "metadata": {
    "execution": {
     "iopub.execute_input": "2022-05-10T05:12:37.360932Z",
     "iopub.status.busy": "2022-05-10T05:12:37.360673Z",
     "iopub.status.idle": "2022-05-10T05:12:37.787257Z",
     "shell.execute_reply": "2022-05-10T05:12:37.786176Z"
    },
    "papermill": {
     "duration": 0.489851,
     "end_time": "2022-05-10T05:12:37.789953",
     "exception": false,
     "start_time": "2022-05-10T05:12:37.300102",
     "status": "completed"
    },
    "tags": []
   },
   "outputs": [],
   "source": [
    "from sklearn.ensemble import RandomForestClassifier\n",
    "from sklearn.svm import LinearSVC\n",
    "from sklearn.linear_model import LogisticRegression\n",
    "from sklearn.tree import DecisionTreeClassifier\n",
    "from sklearn.svm import LinearSVC\n",
    "from sklearn.pipeline import make_pipeline\n",
    "from sklearn.preprocessing import StandardScaler\n",
    "from sklearn.datasets import make_classification\n",
    "from sklearn.svm import SVC\n",
    "from sklearn.neighbors import KNeighborsClassifier\n",
    "from sklearn.ensemble import GradientBoostingRegressor\n",
    "import xgboost\n",
    "from sklearn.metrics import f1_score\n"
   ]
  },
  {
   "cell_type": "code",
   "execution_count": 29,
   "id": "a6de497e",
   "metadata": {
    "execution": {
     "iopub.execute_input": "2022-05-10T05:12:37.910114Z",
     "iopub.status.busy": "2022-05-10T05:12:37.909846Z",
     "iopub.status.idle": "2022-05-10T05:12:39.880511Z",
     "shell.execute_reply": "2022-05-10T05:12:39.879118Z"
    },
    "papermill": {
     "duration": 2.0331,
     "end_time": "2022-05-10T05:12:39.882776",
     "exception": false,
     "start_time": "2022-05-10T05:12:37.849676",
     "status": "completed"
    },
    "tags": []
   },
   "outputs": [
    {
     "name": "stdout",
     "output_type": "stream",
     "text": [
      "0.9809523809523809\n",
      "0.9557522123893806\n",
      "[0.96062992 0.97619048 0.8       ]\n"
     ]
    }
   ],
   "source": [
    "rnd_clf = RandomForestClassifier(n_estimators=500, max_leaf_nodes=13, n_jobs=-1)\n",
    "rnd_clf.fit(X_train, y_train)\n",
    "\n",
    "y_rnd_pred = rnd_clf.predict(X_val)\n",
    "\n",
    "print(rnd_clf.score(X_train, y_train))\n",
    "print(rnd_clf.score(X_val, y_val))\n",
    "print(f1_score(y_val, y_rnd_pred, average=None))"
   ]
  },
  {
   "cell_type": "code",
   "execution_count": 30,
   "id": "e515d29c",
   "metadata": {
    "execution": {
     "iopub.execute_input": "2022-05-10T05:12:40.002737Z",
     "iopub.status.busy": "2022-05-10T05:12:40.002409Z",
     "iopub.status.idle": "2022-05-10T05:12:40.071953Z",
     "shell.execute_reply": "2022-05-10T05:12:40.070941Z"
    },
    "papermill": {
     "duration": 0.132586,
     "end_time": "2022-05-10T05:12:40.074662",
     "exception": false,
     "start_time": "2022-05-10T05:12:39.942076",
     "status": "completed"
    },
    "tags": []
   },
   "outputs": [
    {
     "name": "stderr",
     "output_type": "stream",
     "text": [
      "/opt/conda/lib/python3.7/site-packages/sklearn/svm/_base.py:1208: ConvergenceWarning: Liblinear failed to converge, increase the number of iterations.\n",
      "  ConvergenceWarning,\n"
     ]
    }
   ],
   "source": [
    "svm_clf = LinearSVC(random_state=42)\n",
    "svm_clf.fit(X_train, y_train)\n",
    "\n",
    "y_svm_pred = svm_clf.predict(X_val)"
   ]
  },
  {
   "cell_type": "code",
   "execution_count": 31,
   "id": "305b1f01",
   "metadata": {
    "execution": {
     "iopub.execute_input": "2022-05-10T05:12:40.195976Z",
     "iopub.status.busy": "2022-05-10T05:12:40.195513Z",
     "iopub.status.idle": "2022-05-10T05:12:40.207055Z",
     "shell.execute_reply": "2022-05-10T05:12:40.206052Z"
    },
    "papermill": {
     "duration": 0.07357,
     "end_time": "2022-05-10T05:12:40.209318",
     "exception": false,
     "start_time": "2022-05-10T05:12:40.135748",
     "status": "completed"
    },
    "tags": []
   },
   "outputs": [
    {
     "name": "stdout",
     "output_type": "stream",
     "text": [
      "0.7542857142857143\n",
      "0.7699115044247787\n",
      "[0.81702128 0.7839196  0.        ]\n"
     ]
    }
   ],
   "source": [
    "print(svm_clf.score(X_train, y_train))\n",
    "print(svm_clf.score(X_val, y_val))\n",
    "print(f1_score(y_val, y_svm_pred, average=None))"
   ]
  },
  {
   "cell_type": "code",
   "execution_count": 32,
   "id": "3cfad62c",
   "metadata": {
    "execution": {
     "iopub.execute_input": "2022-05-10T05:12:40.331344Z",
     "iopub.status.busy": "2022-05-10T05:12:40.331085Z",
     "iopub.status.idle": "2022-05-10T05:12:40.340662Z",
     "shell.execute_reply": "2022-05-10T05:12:40.339909Z"
    },
    "papermill": {
     "duration": 0.07251,
     "end_time": "2022-05-10T05:12:40.342834",
     "exception": false,
     "start_time": "2022-05-10T05:12:40.270324",
     "status": "completed"
    },
    "tags": []
   },
   "outputs": [],
   "source": [
    "knn_clf = KNeighborsClassifier(weights='distance', n_neighbors=3)\n",
    "knn_clf.fit(X_train, y_train)\n",
    "y_knn_pred = knn_clf.predict(X_val)"
   ]
  },
  {
   "cell_type": "code",
   "execution_count": 33,
   "id": "4410ab75",
   "metadata": {
    "execution": {
     "iopub.execute_input": "2022-05-10T05:12:40.465496Z",
     "iopub.status.busy": "2022-05-10T05:12:40.465192Z",
     "iopub.status.idle": "2022-05-10T05:12:40.480344Z",
     "shell.execute_reply": "2022-05-10T05:12:40.479371Z"
    },
    "papermill": {
     "duration": 0.078355,
     "end_time": "2022-05-10T05:12:40.483047",
     "exception": false,
     "start_time": "2022-05-10T05:12:40.404692",
     "status": "completed"
    },
    "tags": []
   },
   "outputs": [
    {
     "name": "stdout",
     "output_type": "stream",
     "text": [
      "1.0\n",
      "0.8893805309734514\n",
      "[0.93076923 0.89820359 0.4       ]\n"
     ]
    }
   ],
   "source": [
    "print(knn_clf.score(X_train, y_train))\n",
    "print(knn_clf.score(X_val, y_val))\n",
    "print(f1_score(y_val, y_knn_pred, average=None))"
   ]
  },
  {
   "cell_type": "code",
   "execution_count": 34,
   "id": "406c13e7",
   "metadata": {
    "execution": {
     "iopub.execute_input": "2022-05-10T05:12:40.606491Z",
     "iopub.status.busy": "2022-05-10T05:12:40.606082Z",
     "iopub.status.idle": "2022-05-10T05:12:40.979775Z",
     "shell.execute_reply": "2022-05-10T05:12:40.978892Z"
    },
    "papermill": {
     "duration": 0.437917,
     "end_time": "2022-05-10T05:12:40.982212",
     "exception": false,
     "start_time": "2022-05-10T05:12:40.544295",
     "status": "completed"
    },
    "tags": []
   },
   "outputs": [
    {
     "name": "stdout",
     "output_type": "stream",
     "text": [
      "0.8380952380952381\n",
      "0.831858407079646\n",
      "[0.8879668  0.82795699 0.32      ]\n"
     ]
    }
   ],
   "source": [
    "from sklearn.linear_model import LogisticRegression\n",
    "lr_clf = LogisticRegression()\n",
    "\n",
    "#모델 파라미터 조정(규제 파라미터 및 반복 학습 횟수)\n",
    "lr_clf = LogisticRegression(C=14, max_iter=1000)\n",
    "lr_clf.fit(X_train, y_train)\n",
    "y_lr_pred = lr_clf.predict(X_val)\n",
    "\n",
    "print(lr_clf.score(X_train, y_train))\n",
    "print(lr_clf.score(X_val, y_val))\n",
    "print(f1_score(y_val, y_lr_pred, average=None))"
   ]
  },
  {
   "cell_type": "code",
   "execution_count": 35,
   "id": "85313ef7",
   "metadata": {
    "execution": {
     "iopub.execute_input": "2022-05-10T05:12:41.111200Z",
     "iopub.status.busy": "2022-05-10T05:12:41.110925Z",
     "iopub.status.idle": "2022-05-10T05:12:41.601930Z",
     "shell.execute_reply": "2022-05-10T05:12:41.600652Z"
    },
    "papermill": {
     "duration": 0.561218,
     "end_time": "2022-05-10T05:12:41.605213",
     "exception": false,
     "start_time": "2022-05-10T05:12:41.043995",
     "status": "completed"
    },
    "tags": []
   },
   "outputs": [
    {
     "name": "stdout",
     "output_type": "stream",
     "text": [
      "[05:12:41] WARNING: ../src/learner.cc:1115: Starting in XGBoost 1.3.0, the default evaluation metric used with the objective 'multi:softprob' was changed from 'merror' to 'mlogloss'. Explicitly set eval_metric if you'd like to restore the old behavior.\n"
     ]
    },
    {
     "name": "stderr",
     "output_type": "stream",
     "text": [
      "/opt/conda/lib/python3.7/site-packages/xgboost/sklearn.py:1224: UserWarning: The use of label encoder in XGBClassifier is deprecated and will be removed in a future release. To remove this warning, do the following: 1) Pass option use_label_encoder=False when constructing XGBClassifier object; and 2) Encode your labels (y) as integers starting with 0, i.e. 0, 1, 2, ..., [num_class - 1].\n",
      "  warnings.warn(label_encoder_deprecation_msg, UserWarning)\n"
     ]
    },
    {
     "name": "stdout",
     "output_type": "stream",
     "text": [
      "1.0\n",
      "0.9646017699115044\n",
      "[0.96825397 0.97005988 0.90909091]\n"
     ]
    }
   ],
   "source": [
    "import xgboost\n",
    "\n",
    "xgb_clf = xgboost.XGBClassifier()\n",
    "xgb_clf.objective = 'multi:softmax'\n",
    "xgb_clf.fit(X_train, y_train)\n",
    "y_xgb_pred = xgb_clf.predict(X_val)\n",
    "print(xgb_clf.score(X_train, y_train))\n",
    "print(xgb_clf.score(X_val, y_val))\n",
    "print(f1_score(y_val, y_xgb_pred, average=None))"
   ]
  },
  {
   "cell_type": "code",
   "execution_count": 36,
   "id": "56764895",
   "metadata": {
    "execution": {
     "iopub.execute_input": "2022-05-10T05:12:41.735037Z",
     "iopub.status.busy": "2022-05-10T05:12:41.734758Z",
     "iopub.status.idle": "2022-05-10T05:12:43.768945Z",
     "shell.execute_reply": "2022-05-10T05:12:43.767536Z"
    },
    "papermill": {
     "duration": 2.101952,
     "end_time": "2022-05-10T05:12:43.771972",
     "exception": false,
     "start_time": "2022-05-10T05:12:41.670020",
     "status": "completed"
    },
    "tags": []
   },
   "outputs": [
    {
     "name": "stdout",
     "output_type": "stream",
     "text": [
      "0.9733333333333334\n",
      "0.9557522123893806\n"
     ]
    }
   ],
   "source": [
    "from sklearn.ensemble import BaggingClassifier\n",
    "from sklearn.tree import DecisionTreeClassifier\n",
    "\n",
    "bag_clf = BaggingClassifier(DecisionTreeClassifier(), n_estimators=250, max_samples=120, bootstrap=True, n_jobs=-1)\n",
    "bag_clf.fit(X_train, y_train)\n",
    "y_pred = bag_clf.predict(X_val)\n",
    "print(bag_clf.score(X_train, y_train))\n",
    "print(bag_clf.score(X_val, y_val))"
   ]
  },
  {
   "cell_type": "code",
   "execution_count": 37,
   "id": "2656a334",
   "metadata": {
    "execution": {
     "iopub.execute_input": "2022-05-10T05:12:43.901425Z",
     "iopub.status.busy": "2022-05-10T05:12:43.901127Z",
     "iopub.status.idle": "2022-05-10T05:12:45.325687Z",
     "shell.execute_reply": "2022-05-10T05:12:45.324771Z"
    },
    "papermill": {
     "duration": 1.493597,
     "end_time": "2022-05-10T05:12:45.327897",
     "exception": false,
     "start_time": "2022-05-10T05:12:43.834300",
     "status": "completed"
    },
    "tags": []
   },
   "outputs": [
    {
     "name": "stderr",
     "output_type": "stream",
     "text": [
      "/opt/conda/lib/python3.7/site-packages/xgboost/sklearn.py:1224: UserWarning: The use of label encoder in XGBClassifier is deprecated and will be removed in a future release. To remove this warning, do the following: 1) Pass option use_label_encoder=False when constructing XGBClassifier object; and 2) Encode your labels (y) as integers starting with 0, i.e. 0, 1, 2, ..., [num_class - 1].\n",
      "  warnings.warn(label_encoder_deprecation_msg, UserWarning)\n"
     ]
    },
    {
     "name": "stdout",
     "output_type": "stream",
     "text": [
      "[05:12:44] WARNING: ../src/learner.cc:1115: Starting in XGBoost 1.3.0, the default evaluation metric used with the objective 'multi:softprob' was changed from 'merror' to 'mlogloss'. Explicitly set eval_metric if you'd like to restore the old behavior.\n"
     ]
    },
    {
     "data": {
      "text/plain": [
       "VotingClassifier(estimators=[('rf',\n",
       "                              RandomForestClassifier(max_leaf_nodes=13,\n",
       "                                                     n_estimators=500,\n",
       "                                                     n_jobs=-1)),\n",
       "                             ('xgb',\n",
       "                              XGBClassifier(base_score=0.5, booster='gbtree',\n",
       "                                            colsample_bylevel=1,\n",
       "                                            colsample_bynode=1,\n",
       "                                            colsample_bytree=1,\n",
       "                                            enable_categorical=False, gamma=0,\n",
       "                                            gpu_id=-1, importance_type=None,\n",
       "                                            interaction_constraints='',\n",
       "                                            learning_rate=0.300000012,\n",
       "                                            max_delta_step=0,...\n",
       "                                            monotone_constraints='()',\n",
       "                                            n_estimators=100, n_jobs=4,\n",
       "                                            num_parallel_tree=1,\n",
       "                                            objective='multi:softprob',\n",
       "                                            predictor='auto', random_state=0,\n",
       "                                            reg_alpha=0, reg_lambda=1,\n",
       "                                            scale_pos_weight=None, subsample=1,\n",
       "                                            tree_method='exact',\n",
       "                                            validate_parameters=1,\n",
       "                                            verbosity=None)),\n",
       "                             ('bag',\n",
       "                              BaggingClassifier(base_estimator=DecisionTreeClassifier(),\n",
       "                                                max_samples=120,\n",
       "                                                n_estimators=250, n_jobs=-1))],\n",
       "                 voting='soft')"
      ]
     },
     "execution_count": 37,
     "metadata": {},
     "output_type": "execute_result"
    }
   ],
   "source": [
    "from sklearn.ensemble import RandomForestClassifier\n",
    "from sklearn.ensemble import VotingClassifier\n",
    "from sklearn.linear_model import LogisticRegression\n",
    "from sklearn.svm import SVC\n",
    "\n",
    "voting_clf = VotingClassifier(estimators=[('rf', rnd_clf), ('xgb', xgb_clf), ('bag', bag_clf)], voting='soft')\n",
    "voting_clf.fit(X_train, y_train)"
   ]
  },
  {
   "cell_type": "code",
   "execution_count": 38,
   "id": "1a176fd2",
   "metadata": {
    "execution": {
     "iopub.execute_input": "2022-05-10T05:12:45.455038Z",
     "iopub.status.busy": "2022-05-10T05:12:45.454477Z",
     "iopub.status.idle": "2022-05-10T05:12:46.213043Z",
     "shell.execute_reply": "2022-05-10T05:12:46.212095Z"
    },
    "papermill": {
     "duration": 0.824954,
     "end_time": "2022-05-10T05:12:46.215513",
     "exception": false,
     "start_time": "2022-05-10T05:12:45.390559",
     "status": "completed"
    },
    "tags": []
   },
   "outputs": [
    {
     "name": "stdout",
     "output_type": "stream",
     "text": [
      "0.9866666666666667\n",
      "0.9690265486725663\n"
     ]
    }
   ],
   "source": [
    "print(voting_clf.score(X_train, y_train))\n",
    "print(voting_clf.score(X_val, y_val))"
   ]
  },
  {
   "cell_type": "code",
   "execution_count": null,
   "id": "4549493e",
   "metadata": {
    "papermill": {
     "duration": 0.067866,
     "end_time": "2022-05-10T05:12:46.351510",
     "exception": false,
     "start_time": "2022-05-10T05:12:46.283644",
     "status": "completed"
    },
    "tags": []
   },
   "outputs": [],
   "source": []
  },
  {
   "cell_type": "markdown",
   "id": "298dcde6",
   "metadata": {
    "papermill": {
     "duration": 0.065323,
     "end_time": "2022-05-10T05:12:46.482111",
     "exception": false,
     "start_time": "2022-05-10T05:12:46.416788",
     "status": "completed"
    },
    "tags": []
   },
   "source": [
    "### 모델 성능 확인   \n",
    "\n",
    "- 경진대회 평가방식은 \"mean F1 score\" 입니다.\n",
    "- 다만 여러 방법으로 모델의 성능을 확인하는 것은 자유롭게 가능합니다. "
   ]
  },
  {
   "cell_type": "code",
   "execution_count": 39,
   "id": "b2fb141a",
   "metadata": {
    "execution": {
     "iopub.execute_input": "2022-05-10T05:12:46.611408Z",
     "iopub.status.busy": "2022-05-10T05:12:46.610775Z",
     "iopub.status.idle": "2022-05-10T05:12:47.000539Z",
     "shell.execute_reply": "2022-05-10T05:12:46.999666Z"
    },
    "papermill": {
     "duration": 0.457271,
     "end_time": "2022-05-10T05:12:47.002996",
     "exception": false,
     "start_time": "2022-05-10T05:12:46.545725",
     "status": "completed"
    },
    "tags": []
   },
   "outputs": [],
   "source": [
    "# test_predicted = encoder.inverse_transform(knn_clf.predict(X_test))\n",
    "test_predicted = encoder.inverse_transform(voting_clf.predict(X_test))"
   ]
  },
  {
   "cell_type": "code",
   "execution_count": 40,
   "id": "a468c6fc",
   "metadata": {
    "execution": {
     "iopub.execute_input": "2022-05-10T05:12:47.134749Z",
     "iopub.status.busy": "2022-05-10T05:12:47.134466Z",
     "iopub.status.idle": "2022-05-10T05:12:47.154169Z",
     "shell.execute_reply": "2022-05-10T05:12:47.153191Z"
    },
    "papermill": {
     "duration": 0.08738,
     "end_time": "2022-05-10T05:12:47.156474",
     "exception": false,
     "start_time": "2022-05-10T05:12:47.069094",
     "status": "completed"
    },
    "tags": []
   },
   "outputs": [
    {
     "data": {
      "text/html": [
       "<div>\n",
       "<style scoped>\n",
       "    .dataframe tbody tr th:only-of-type {\n",
       "        vertical-align: middle;\n",
       "    }\n",
       "\n",
       "    .dataframe tbody tr th {\n",
       "        vertical-align: top;\n",
       "    }\n",
       "\n",
       "    .dataframe thead th {\n",
       "        text-align: right;\n",
       "    }\n",
       "</style>\n",
       "<table border=\"1\" class=\"dataframe\">\n",
       "  <thead>\n",
       "    <tr style=\"text-align: right;\">\n",
       "      <th></th>\n",
       "      <th>index</th>\n",
       "      <th>number</th>\n",
       "      <th>orbital_period</th>\n",
       "      <th>mass</th>\n",
       "      <th>distance</th>\n",
       "      <th>year</th>\n",
       "    </tr>\n",
       "  </thead>\n",
       "  <tbody>\n",
       "    <tr>\n",
       "      <th>0</th>\n",
       "      <td>0</td>\n",
       "      <td>2</td>\n",
       "      <td>74.720000</td>\n",
       "      <td>0.05318</td>\n",
       "      <td>8.82</td>\n",
       "      <td>2011</td>\n",
       "    </tr>\n",
       "    <tr>\n",
       "      <th>1</th>\n",
       "      <td>1</td>\n",
       "      <td>1</td>\n",
       "      <td>2.994330</td>\n",
       "      <td>0.00000</td>\n",
       "      <td>560.00</td>\n",
       "      <td>2010</td>\n",
       "    </tr>\n",
       "    <tr>\n",
       "      <th>2</th>\n",
       "      <td>2</td>\n",
       "      <td>6</td>\n",
       "      <td>10.303900</td>\n",
       "      <td>0.00000</td>\n",
       "      <td>613.00</td>\n",
       "      <td>2010</td>\n",
       "    </tr>\n",
       "    <tr>\n",
       "      <th>3</th>\n",
       "      <td>3</td>\n",
       "      <td>1</td>\n",
       "      <td>0.000000</td>\n",
       "      <td>0.00000</td>\n",
       "      <td>91.83</td>\n",
       "      <td>2013</td>\n",
       "    </tr>\n",
       "    <tr>\n",
       "      <th>4</th>\n",
       "      <td>4</td>\n",
       "      <td>1</td>\n",
       "      <td>2.465020</td>\n",
       "      <td>0.00000</td>\n",
       "      <td>0.00</td>\n",
       "      <td>2014</td>\n",
       "    </tr>\n",
       "    <tr>\n",
       "      <th>...</th>\n",
       "      <td>...</td>\n",
       "      <td>...</td>\n",
       "      <td>...</td>\n",
       "      <td>...</td>\n",
       "      <td>...</td>\n",
       "      <td>...</td>\n",
       "    </tr>\n",
       "    <tr>\n",
       "      <th>280</th>\n",
       "      <td>280</td>\n",
       "      <td>6</td>\n",
       "      <td>16.356700</td>\n",
       "      <td>0.03800</td>\n",
       "      <td>39.39</td>\n",
       "      <td>2010</td>\n",
       "    </tr>\n",
       "    <tr>\n",
       "      <th>281</th>\n",
       "      <td>281</td>\n",
       "      <td>5</td>\n",
       "      <td>44.380000</td>\n",
       "      <td>0.16500</td>\n",
       "      <td>12.53</td>\n",
       "      <td>2004</td>\n",
       "    </tr>\n",
       "    <tr>\n",
       "      <th>282</th>\n",
       "      <td>282</td>\n",
       "      <td>1</td>\n",
       "      <td>615.000000</td>\n",
       "      <td>0.29000</td>\n",
       "      <td>35.88</td>\n",
       "      <td>2011</td>\n",
       "    </tr>\n",
       "    <tr>\n",
       "      <th>283</th>\n",
       "      <td>283</td>\n",
       "      <td>1</td>\n",
       "      <td>2.484193</td>\n",
       "      <td>0.00000</td>\n",
       "      <td>260.00</td>\n",
       "      <td>2013</td>\n",
       "    </tr>\n",
       "    <tr>\n",
       "      <th>284</th>\n",
       "      <td>284</td>\n",
       "      <td>3</td>\n",
       "      <td>4.215000</td>\n",
       "      <td>0.01600</td>\n",
       "      <td>8.52</td>\n",
       "      <td>2009</td>\n",
       "    </tr>\n",
       "  </tbody>\n",
       "</table>\n",
       "<p>285 rows × 6 columns</p>\n",
       "</div>"
      ],
      "text/plain": [
       "     index  number  orbital_period     mass  distance  year\n",
       "0        0       2       74.720000  0.05318      8.82  2011\n",
       "1        1       1        2.994330  0.00000    560.00  2010\n",
       "2        2       6       10.303900  0.00000    613.00  2010\n",
       "3        3       1        0.000000  0.00000     91.83  2013\n",
       "4        4       1        2.465020  0.00000      0.00  2014\n",
       "..     ...     ...             ...      ...       ...   ...\n",
       "280    280       6       16.356700  0.03800     39.39  2010\n",
       "281    281       5       44.380000  0.16500     12.53  2004\n",
       "282    282       1      615.000000  0.29000     35.88  2011\n",
       "283    283       1        2.484193  0.00000    260.00  2013\n",
       "284    284       3        4.215000  0.01600      8.52  2009\n",
       "\n",
       "[285 rows x 6 columns]"
      ]
     },
     "execution_count": 40,
     "metadata": {},
     "output_type": "execute_result"
    }
   ],
   "source": [
    "\n",
    "X_result = pd.concat([test_data['index'], X_test],axis=1)\n",
    "X_result"
   ]
  },
  {
   "cell_type": "code",
   "execution_count": 41,
   "id": "b0f062f0",
   "metadata": {
    "execution": {
     "iopub.execute_input": "2022-05-10T05:12:47.285526Z",
     "iopub.status.busy": "2022-05-10T05:12:47.285245Z",
     "iopub.status.idle": "2022-05-10T05:12:47.290943Z",
     "shell.execute_reply": "2022-05-10T05:12:47.289963Z"
    },
    "papermill": {
     "duration": 0.07273,
     "end_time": "2022-05-10T05:12:47.293060",
     "exception": false,
     "start_time": "2022-05-10T05:12:47.220330",
     "status": "completed"
    },
    "tags": []
   },
   "outputs": [],
   "source": [
    "sample_sub = pd.DataFrame({'index': X_result['index'], 'method': test_predicted})"
   ]
  },
  {
   "cell_type": "code",
   "execution_count": 42,
   "id": "a1dd3b35",
   "metadata": {
    "execution": {
     "iopub.execute_input": "2022-05-10T05:12:47.422041Z",
     "iopub.status.busy": "2022-05-10T05:12:47.421765Z",
     "iopub.status.idle": "2022-05-10T05:12:47.434919Z",
     "shell.execute_reply": "2022-05-10T05:12:47.434026Z"
    },
    "papermill": {
     "duration": 0.080086,
     "end_time": "2022-05-10T05:12:47.437068",
     "exception": false,
     "start_time": "2022-05-10T05:12:47.356982",
     "status": "completed"
    },
    "tags": []
   },
   "outputs": [
    {
     "data": {
      "text/html": [
       "<div>\n",
       "<style scoped>\n",
       "    .dataframe tbody tr th:only-of-type {\n",
       "        vertical-align: middle;\n",
       "    }\n",
       "\n",
       "    .dataframe tbody tr th {\n",
       "        vertical-align: top;\n",
       "    }\n",
       "\n",
       "    .dataframe thead th {\n",
       "        text-align: right;\n",
       "    }\n",
       "</style>\n",
       "<table border=\"1\" class=\"dataframe\">\n",
       "  <thead>\n",
       "    <tr style=\"text-align: right;\">\n",
       "      <th></th>\n",
       "      <th>index</th>\n",
       "      <th>method</th>\n",
       "    </tr>\n",
       "  </thead>\n",
       "  <tbody>\n",
       "    <tr>\n",
       "      <th>0</th>\n",
       "      <td>0</td>\n",
       "      <td>Radial Velocity</td>\n",
       "    </tr>\n",
       "    <tr>\n",
       "      <th>1</th>\n",
       "      <td>1</td>\n",
       "      <td>Transit</td>\n",
       "    </tr>\n",
       "    <tr>\n",
       "      <th>2</th>\n",
       "      <td>2</td>\n",
       "      <td>Transit</td>\n",
       "    </tr>\n",
       "    <tr>\n",
       "      <th>3</th>\n",
       "      <td>3</td>\n",
       "      <td>others</td>\n",
       "    </tr>\n",
       "    <tr>\n",
       "      <th>4</th>\n",
       "      <td>4</td>\n",
       "      <td>Transit</td>\n",
       "    </tr>\n",
       "    <tr>\n",
       "      <th>...</th>\n",
       "      <td>...</td>\n",
       "      <td>...</td>\n",
       "    </tr>\n",
       "    <tr>\n",
       "      <th>280</th>\n",
       "      <td>280</td>\n",
       "      <td>Radial Velocity</td>\n",
       "    </tr>\n",
       "    <tr>\n",
       "      <th>281</th>\n",
       "      <td>281</td>\n",
       "      <td>Radial Velocity</td>\n",
       "    </tr>\n",
       "    <tr>\n",
       "      <th>282</th>\n",
       "      <td>282</td>\n",
       "      <td>Radial Velocity</td>\n",
       "    </tr>\n",
       "    <tr>\n",
       "      <th>283</th>\n",
       "      <td>283</td>\n",
       "      <td>Transit</td>\n",
       "    </tr>\n",
       "    <tr>\n",
       "      <th>284</th>\n",
       "      <td>284</td>\n",
       "      <td>Radial Velocity</td>\n",
       "    </tr>\n",
       "  </tbody>\n",
       "</table>\n",
       "<p>285 rows × 2 columns</p>\n",
       "</div>"
      ],
      "text/plain": [
       "     index           method\n",
       "0        0  Radial Velocity\n",
       "1        1          Transit\n",
       "2        2          Transit\n",
       "3        3           others\n",
       "4        4          Transit\n",
       "..     ...              ...\n",
       "280    280  Radial Velocity\n",
       "281    281  Radial Velocity\n",
       "282    282  Radial Velocity\n",
       "283    283          Transit\n",
       "284    284  Radial Velocity\n",
       "\n",
       "[285 rows x 2 columns]"
      ]
     },
     "execution_count": 42,
     "metadata": {},
     "output_type": "execute_result"
    }
   ],
   "source": [
    "sample_sub"
   ]
  },
  {
   "cell_type": "code",
   "execution_count": 43,
   "id": "6b6447b0",
   "metadata": {
    "execution": {
     "iopub.execute_input": "2022-05-10T05:12:47.568086Z",
     "iopub.status.busy": "2022-05-10T05:12:47.567558Z",
     "iopub.status.idle": "2022-05-10T05:12:47.575106Z",
     "shell.execute_reply": "2022-05-10T05:12:47.574489Z"
    },
    "papermill": {
     "duration": 0.074997,
     "end_time": "2022-05-10T05:12:47.577128",
     "exception": false,
     "start_time": "2022-05-10T05:12:47.502131",
     "status": "completed"
    },
    "tags": []
   },
   "outputs": [],
   "source": [
    "sample_sub.to_csv(\"baseline_17.csv\", index=False)"
   ]
  }
 ],
 "metadata": {
  "kernelspec": {
   "display_name": "Python 3",
   "language": "python",
   "name": "python3"
  },
  "language_info": {
   "codemirror_mode": {
    "name": "ipython",
    "version": 3
   },
   "file_extension": ".py",
   "mimetype": "text/x-python",
   "name": "python",
   "nbconvert_exporter": "python",
   "pygments_lexer": "ipython3",
   "version": "3.7.12"
  },
  "papermill": {
   "default_parameters": {},
   "duration": 30.119176,
   "end_time": "2022-05-10T05:12:50.263910",
   "environment_variables": {},
   "exception": null,
   "input_path": "__notebook__.ipynb",
   "output_path": "__notebook__.ipynb",
   "parameters": {},
   "start_time": "2022-05-10T05:12:20.144734",
   "version": "2.3.4"
  }
 },
 "nbformat": 4,
 "nbformat_minor": 5
}
